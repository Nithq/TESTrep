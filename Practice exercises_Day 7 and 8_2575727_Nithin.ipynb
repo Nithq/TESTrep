{
 "cells": [
  {
   "cell_type": "markdown",
   "id": "4cb41c13",
   "metadata": {},
   "source": [
    "# Write a python program to find a target  values in a list using linear search"
   ]
  },
  {
   "cell_type": "code",
   "execution_count": 1,
   "id": "d65f055e",
   "metadata": {},
   "outputs": [
    {
     "name": "stdout",
     "output_type": "stream",
     "text": [
      "Enter no of elements to be inserted:\t5\n",
      "Enter the Element 1:10\n",
      "Enter the Element 2:20\n",
      "Enter the Element 3:30\n",
      "Enter the Element 4:40\n",
      "Enter the Element 5:50\n",
      "Enter the value to be searched: \t50\n",
      "Element 50 Found at Position 5\n",
      "[10, 20, 30, 40, 50]\n"
     ]
    }
   ],
   "source": [
    "data=[]\n",
    "n=int(input('Enter no of elements to be inserted:\\t'))\n",
    "for i in range(0,n):\n",
    "    x=int(input('Enter the Element %d:'%(i+1)))\n",
    "    data.append(x)\n",
    "    \n",
    "e=int(input('Enter the value to be searched: \\t'))\n",
    "pos=0\n",
    "found=False\n",
    "while pos <n and not found:\n",
    "    if data[pos]==e:\n",
    "        found=True\n",
    "    else:\n",
    "        pos+=1\n",
    "        \n",
    "if found:\n",
    "    print('Element %d Found at Position %d'%(e,pos+1))\n",
    "    \n",
    "else:\n",
    "    print('Element %d not found in the list'%e)\n",
    "    \n",
    "print(data)"
   ]
  },
  {
   "cell_type": "markdown",
   "id": "3a3e6bde",
   "metadata": {},
   "source": [
    "# Write a python program to find a target  values in a list using binary search"
   ]
  },
  {
   "cell_type": "code",
   "execution_count": 2,
   "id": "dde4d4f9",
   "metadata": {},
   "outputs": [],
   "source": [
    "def binary_search(arr, target):\n",
    "    left = 0\n",
    "    right = len(arr) - 1\n",
    "    \n",
    "    while left <= right:\n",
    "        mid = (left + right) // 2\n",
    "        if arr[mid] == target:\n",
    "            return mid  # Target found, return its index\n",
    "        elif arr[mid] < target:\n",
    "            left = mid + 1  # Target is in the right half\n",
    "        else:\n",
    "            right = mid - 1  # Target is in the left half\n",
    "    \n",
    "    return -1  # Target not found in the list\n"
   ]
  },
  {
   "cell_type": "code",
   "execution_count": 5,
   "id": "2a6e6f2e",
   "metadata": {},
   "outputs": [
    {
     "name": "stdout",
     "output_type": "stream",
     "text": [
      "Target 10 found at index 0\n"
     ]
    }
   ],
   "source": [
    "my_list = [10,12,14,16,20]\n",
    "target_value = 10\n",
    "\n",
    "result = binary_search(my_list, target_value)\n",
    "\n",
    "if result != -1:\n",
    "    print(f\"Target {target_value} found at index {result}\")\n",
    "else:\n",
    "    print(f\"Target {target_value} not found in the list\")\n"
   ]
  },
  {
   "cell_type": "code",
   "execution_count": null,
   "id": "5d629253",
   "metadata": {},
   "outputs": [],
   "source": [
    "Write a python program for soting a list of elements using selection sort algorithm"
   ]
  },
  {
   "cell_type": "code",
   "execution_count": 4,
   "id": "26e08c45",
   "metadata": {},
   "outputs": [
    {
     "name": "stdout",
     "output_type": "stream",
     "text": [
      "Original list: [64, 25, 12, 22, 11]\n",
      "Sorted list: [11, 12, 22, 25, 64]\n"
     ]
    }
   ],
   "source": [
    "def selection_sort(arr):\n",
    "    n = len(arr)\n",
    "\n",
    "    for i in range(n):\n",
    "        # Find the minimum element in the remaining unsorted portion of the array\n",
    "        min_index = i\n",
    "        for j in range(i + 1, n):\n",
    "            if arr[j] < arr[min_index]:\n",
    "                min_index = j\n",
    "\n",
    "        # Swap the found minimum element with the first element\n",
    "        arr[i], arr[min_index] = arr[min_index], arr[i]\n",
    "\n",
    "# Example usage:\n",
    "if __name__ == \"__main__\":\n",
    "    input_list = [64, 25, 12, 22, 11]\n",
    "    print(\"Original list:\", input_list)\n",
    "\n",
    "    selection_sort(input_list)\n",
    "\n",
    "    print(\"Sorted list:\", input_list)\n"
   ]
  },
  {
   "cell_type": "code",
   "execution_count": null,
   "id": "f7e9309a",
   "metadata": {},
   "outputs": [],
   "source": [
    "Write a python program for soting a list of elements using insertion sort algorithm"
   ]
  },
  {
   "cell_type": "code",
   "execution_count": 2,
   "id": "70510651",
   "metadata": {},
   "outputs": [
    {
     "name": "stdout",
     "output_type": "stream",
     "text": [
      "[0, 7, 11, 12, 13]\n"
     ]
    }
   ],
   "source": [
    "def insertionSort(arr):\n",
    "    n = len(arr) # Get the length of the array\n",
    "\n",
    "    if n <= 1:\n",
    "        return # If the array has 0 or 1 element, it is already sorted, so return\n",
    "\n",
    "    for i in range(1, n): # Iterate over the array starting from the second element\n",
    "        key = arr[i] # Store the current element as the key to be inserted in the right position\n",
    "        j = i-1\n",
    "        while j >= 0 and key < arr[j]: # Move elements greater than key one position ahead\n",
    "            arr[j+1] = arr[j] # Shift elements to the right\n",
    "            j -= 1\n",
    "        arr[j+1] = key # Insert the key in the correct position\n",
    "\n",
    "# Sorting the array using insertionSort\n",
    "arr = [12, 11, 13, 7, 0]\n",
    "insertionSort(arr)\n",
    "print(arr)\n"
   ]
  },
  {
   "cell_type": "code",
   "execution_count": null,
   "id": "2172e6c5",
   "metadata": {},
   "outputs": [],
   "source": [
    "Write a python program that performs merge sort on a list of numbers"
   ]
  },
  {
   "cell_type": "code",
   "execution_count": 6,
   "id": "517f5249",
   "metadata": {},
   "outputs": [
    {
     "name": "stdout",
     "output_type": "stream",
     "text": [
      "Original list: [33, 43, 55, 3, 7, 89, 44]\n",
      "Sorted list: [3, 7, 33, 43, 44, 55, 89]\n"
     ]
    }
   ],
   "source": [
    "def merge_sort(arr):\n",
    "    if len(arr) > 1:\n",
    "        mid = len(arr) // 2  # Find the middle of the array\n",
    "        left_half = arr[:mid]  # Divide the array into two halves\n",
    "        right_half = arr[mid:]\n",
    "\n",
    "        # Recursive call to sort the first half\n",
    "        merge_sort(left_half)\n",
    "        \n",
    "        # Recursive call to sort the second half\n",
    "        merge_sort(right_half)\n",
    "\n",
    "        i = j = k = 0\n",
    "\n",
    "        # Merge the two halves back together in sorted order\n",
    "        while i < len(left_half) and j < len(right_half):\n",
    "            if left_half[i] < right_half[j]:\n",
    "                arr[k] = left_half[i]\n",
    "                i += 1\n",
    "            else:\n",
    "                arr[k] = right_half[j]\n",
    "                j += 1\n",
    "            k += 1\n",
    "\n",
    "        # Check if any element was left\n",
    "        while i < len(left_half):\n",
    "            arr[k] = left_half[i]\n",
    "            i += 1\n",
    "            k += 1\n",
    "\n",
    "        while j < len(right_half):\n",
    "            arr[k] = right_half[j]\n",
    "            j += 1\n",
    "            k += 1\n",
    "\n",
    "# Example usage:\n",
    "if __name__ == \"__main__\":\n",
    "    input_list = [33,43,55,3,7,89,44]\n",
    "    print(\"Original list:\", input_list)\n",
    "\n",
    "    merge_sort(input_list)\n",
    "\n",
    "    print(\"Sorted list:\", input_list)\n"
   ]
  },
  {
   "cell_type": "markdown",
   "id": "65cebc59",
   "metadata": {},
   "source": [
    "# Write a python script to perform the following operations on a singly linked list\n",
    "a. create a list\n",
    "b. Find the smallest element from the list\n",
    "c. Insert an element if it is not a duplicate element\n",
    "d. Display the elements in reverse order "
   ]
  },
  {
   "cell_type": "code",
   "execution_count": 8,
   "id": "9b1cae32",
   "metadata": {},
   "outputs": [
    {
     "name": "stdout",
     "output_type": "stream",
     "text": [
      "The smallest element in the list is: 5\n",
      "Elements in reverse order:\n",
      "20 5 7 15 5 10 "
     ]
    }
   ],
   "source": [
    "class Node:\n",
    "    def __init__(self, data):\n",
    "        self.data = data\n",
    "        self.next = None\n",
    "\n",
    "class SinglyLinkedList:\n",
    "    def __init__(self):\n",
    "        self.head = None\n",
    "\n",
    "    def append(self, data):\n",
    "        new_node = Node(data)\n",
    "        if not self.head:\n",
    "            self.head = new_node\n",
    "        else:\n",
    "            current = self.head\n",
    "            while current.next:\n",
    "                current = current.next\n",
    "            current.next = new_node\n",
    "\n",
    "    def find_smallest_element(self):\n",
    "        if not self.head:\n",
    "            return None\n",
    "        \n",
    "        smallest = self.head.data\n",
    "        current = self.head.next\n",
    "        \n",
    "        while current:\n",
    "            if current.data < smallest:\n",
    "                smallest = current.data\n",
    "            current = current.next\n",
    "        \n",
    "        return smallest\n",
    "\n",
    "    def insert_unique_element(self, data):\n",
    "        if not self.head:\n",
    "            self.head = Node(data)\n",
    "            return\n",
    "\n",
    "        current = self.head\n",
    "        while current.next:\n",
    "            if current.data == data:\n",
    "                return  # Element already exists, no need to insert\n",
    "            current = current.next\n",
    "        \n",
    "        if current.data == data:\n",
    "            return  # Element already exists, no need to insert\n",
    "\n",
    "        current.next = Node(data)\n",
    "\n",
    "    def display_reverse(self):\n",
    "        def _display_reverse(node):\n",
    "            if node:\n",
    "                _display_reverse(node.next)\n",
    "                print(node.data, end=\" \")\n",
    "\n",
    "        _display_reverse(self.head)\n",
    "\n",
    "# Create a singly linked list\n",
    "my_list = SinglyLinkedList()\n",
    "my_list.append(10)\n",
    "my_list.append(5)\n",
    "my_list.append(15)\n",
    "my_list.append(7)\n",
    "my_list.append(5)\n",
    "\n",
    "# Find the smallest element\n",
    "smallest = my_list.find_smallest_element()\n",
    "if smallest is not None:\n",
    "    print(f\"The smallest element in the list is: {smallest}\")\n",
    "\n",
    "# Insert an element if it's not a duplicate\n",
    "my_list.insert_unique_element(20)\n",
    "\n",
    "# Display the elements in reverse order\n",
    "print(\"Elements in reverse order:\")\n",
    "my_list.display_reverse()\n"
   ]
  },
  {
   "cell_type": "markdown",
   "id": "9b70ea2d",
   "metadata": {},
   "source": [
    "# write the python program to implement various operations for stack ADT\n",
    "a.Push b.Pop c.Display"
   ]
  },
  {
   "cell_type": "code",
   "execution_count": 9,
   "id": "4ec881a3",
   "metadata": {},
   "outputs": [
    {
     "name": "stdout",
     "output_type": "stream",
     "text": [
      "\n",
      "Stack Operations:\n",
      "1. Push\n",
      "2. Pop\n",
      "3. Display\n",
      "4. Quit\n",
      "Enter your choice (1/2/3/4): 1\n",
      "Enter the element to push: 1\n",
      "1 pushed onto the stack.\n",
      "\n",
      "Stack Operations:\n",
      "1. Push\n",
      "2. Pop\n",
      "3. Display\n",
      "4. Quit\n",
      "Enter your choice (1/2/3/4): 2\n",
      "Popped element: 1\n",
      "\n",
      "Stack Operations:\n",
      "1. Push\n",
      "2. Pop\n",
      "3. Display\n",
      "4. Quit\n",
      "Enter your choice (1/2/3/4): 2\n",
      "Stack is empty. Cannot pop an element.\n",
      "\n",
      "Stack Operations:\n",
      "1. Push\n",
      "2. Pop\n",
      "3. Display\n",
      "4. Quit\n",
      "Enter your choice (1/2/3/4): 3\n",
      "Stack is empty.\n",
      "\n",
      "Stack Operations:\n",
      "1. Push\n",
      "2. Pop\n",
      "3. Display\n",
      "4. Quit\n",
      "Enter your choice (1/2/3/4): 4\n"
     ]
    }
   ],
   "source": [
    "class Stack:\n",
    "    def __init__(self):\n",
    "        self.items = []\n",
    "\n",
    "    def is_empty(self):\n",
    "        return len(self.items) == 0\n",
    "\n",
    "    def push(self, item):\n",
    "        self.items.append(item)\n",
    "\n",
    "    def pop(self):\n",
    "        if not self.is_empty():\n",
    "            return self.items.pop()\n",
    "        else:\n",
    "            print(\"Stack is empty. Cannot pop an element.\")\n",
    "\n",
    "    def display(self):\n",
    "        if not self.is_empty():\n",
    "            print(\"Stack elements:\")\n",
    "            for item in reversed(self.items):\n",
    "                print(item)\n",
    "        else:\n",
    "            print(\"Stack is empty.\")\n",
    "\n",
    "# Create a stack\n",
    "stack = Stack()\n",
    "\n",
    "while True:\n",
    "    print(\"\\nStack Operations:\")\n",
    "    print(\"1. Push\")\n",
    "    print(\"2. Pop\")\n",
    "    print(\"3. Display\")\n",
    "    print(\"4. Quit\")\n",
    "\n",
    "    choice = input(\"Enter your choice (1/2/3/4): \")\n",
    "\n",
    "    if choice == '1':\n",
    "        item = input(\"Enter the element to push: \")\n",
    "        stack.push(item)\n",
    "        print(f\"{item} pushed onto the stack.\")\n",
    "    elif choice == '2':\n",
    "        popped_item = stack.pop()\n",
    "        if popped_item is not None:\n",
    "            print(f\"Popped element: {popped_item}\")\n",
    "    elif choice == '3':\n",
    "        stack.display()\n",
    "    elif choice == '4':\n",
    "        break\n",
    "    else:\n",
    "        print(\"Invalid choice. Please choose a valid option.\")\n"
   ]
  },
  {
   "cell_type": "markdown",
   "id": "2d611b27",
   "metadata": {},
   "source": [
    "# write the python program to implement various operations for queue ADT \n",
    "a.Insert\n",
    " b.Delete\n",
    "c.Display"
   ]
  },
  {
   "cell_type": "code",
   "execution_count": 10,
   "id": "5f7b047c",
   "metadata": {},
   "outputs": [
    {
     "name": "stdout",
     "output_type": "stream",
     "text": [
      "Queue elements:\n",
      "10\n",
      "20\n",
      "30\n",
      "40\n",
      "Deleted item: 10\n",
      "Queue elements:\n",
      "20\n",
      "30\n",
      "40\n"
     ]
    }
   ],
   "source": [
    "class Queue:\n",
    "    def __init__(self):\n",
    "        self.items = []\n",
    "\n",
    "    def is_empty(self):\n",
    "        return len(self.items) == 0\n",
    "\n",
    "    def enqueue(self, item):\n",
    "        self.items.append(item)\n",
    "\n",
    "    def dequeue(self):\n",
    "        if not self.is_empty():\n",
    "            return self.items.pop(0)  # Remove and return the front element\n",
    "        else:\n",
    "            return None  # Queue is empty, nothing to delete\n",
    "\n",
    "    def display(self):\n",
    "        if not self.is_empty():\n",
    "            print(\"Queue elements:\")\n",
    "            for item in self.items:\n",
    "                print(item)\n",
    "        else:\n",
    "            print(\"Queue is empty\")\n",
    "\n",
    "# Create a queue\n",
    "queue = Queue()\n",
    "\n",
    "# Insert elements into the queue\n",
    "queue.enqueue(10)\n",
    "queue.enqueue(20)\n",
    "queue.enqueue(30)\n",
    "queue.enqueue(40)\n",
    "\n",
    "# Display the queue\n",
    "queue.display()\n",
    "\n",
    "# Delete elements from the queue\n",
    "deleted_item = queue.dequeue()\n",
    "if deleted_item is not None:\n",
    "    print(f\"Deleted item: {deleted_item}\")\n",
    "\n",
    "# Display the updated queue\n",
    "queue.display()\n"
   ]
  },
  {
   "cell_type": "markdown",
   "id": "ca6f0e13",
   "metadata": {},
   "source": [
    "# Write a program in python to convert the following infix expression to its postfix from using push and pop operations of a stack\n",
    "a. A/B^C+D*E-F*G"
   ]
  },
  {
   "cell_type": "code",
   "execution_count": 11,
   "id": "0da1d085",
   "metadata": {},
   "outputs": [
    {
     "name": "stdout",
     "output_type": "stream",
     "text": [
      "Infix expression: A/B^C+D*E-F*G\n",
      "Postfix expression: ABC^/DE*+FG*-\n"
     ]
    }
   ],
   "source": [
    "def is_operator(char):\n",
    "    return char in \"+-*/^\"\n",
    "\n",
    "def precedence(operator):\n",
    "    precedence_map = {\n",
    "        '+': 1,\n",
    "        '-': 1,\n",
    "        '*': 2,\n",
    "        '/': 2,\n",
    "        '^': 3\n",
    "    }\n",
    "    return precedence_map.get(operator, 0)\n",
    "\n",
    "def infix_to_postfix(infix_expression):\n",
    "    stack = []\n",
    "    postfix = []\n",
    "    \n",
    "    for char in infix_expression:\n",
    "        if char.isalnum():\n",
    "            postfix.append(char)\n",
    "        elif char == '(':\n",
    "            stack.append(char)\n",
    "        elif char == ')':\n",
    "            while stack and stack[-1] != '(':\n",
    "                postfix.append(stack.pop())\n",
    "            if stack and stack[-1] == '(':\n",
    "                stack.pop()  # Pop the '('\n",
    "        elif is_operator(char):\n",
    "            while stack and stack[-1] != '(' and precedence(stack[-1]) >= precedence(char):\n",
    "                postfix.append(stack.pop())\n",
    "            stack.append(char)\n",
    "    \n",
    "    while stack:\n",
    "        postfix.append(stack.pop())\n",
    "    \n",
    "    return ''.join(postfix)\n",
    "\n",
    "infix_expression = \"A/B^C+D*E-F*G\"\n",
    "postfix_expression = infix_to_postfix(infix_expression)\n",
    "print(f\"Infix expression: {infix_expression}\")\n",
    "print(f\"Postfix expression: {postfix_expression}\")\n"
   ]
  },
  {
   "cell_type": "markdown",
   "id": "efc32aa6",
   "metadata": {},
   "source": [
    "# b.(B^2-4*A*C)^(1/2)*(100)"
   ]
  },
  {
   "cell_type": "code",
   "execution_count": 1,
   "id": "9d23ad23",
   "metadata": {},
   "outputs": [
    {
     "name": "stdout",
     "output_type": "stream",
     "text": [
      "Infix Expression: (B^2-4*A*C)^(1/2)*(100)\n",
      "Postfix Expression: B2^4A*C*-12/^100*\n"
     ]
    }
   ],
   "source": [
    "def infix_to_postfix(expression):\n",
    "    def precedence(operator):\n",
    "        precedence_dict = {'+': 1, '-': 1, '*': 2, '/': 2, '^': 3}\n",
    "        return precedence_dict.get(operator, 0)\n",
    "\n",
    "    def is_operator(char):\n",
    "        return char in \"+-*/^\"\n",
    "\n",
    "    postfix = []\n",
    "    stack = []\n",
    "\n",
    "    for char in expression:\n",
    "        if char.isalnum():\n",
    "            postfix.append(char)\n",
    "        elif char == '(':\n",
    "            stack.append(char)\n",
    "        elif char == ')':\n",
    "            while stack and stack[-1] != '(':\n",
    "                postfix.append(stack.pop())\n",
    "            stack.pop()  # Remove the '(' from the stack\n",
    "        elif is_operator(char):\n",
    "            while (stack and is_operator(stack[-1]) and\n",
    "                   precedence(char) <= precedence(stack[-1])):\n",
    "                postfix.append(stack.pop())\n",
    "            stack.append(char)\n",
    "\n",
    "    while stack:\n",
    "        postfix.append(stack.pop())\n",
    "\n",
    "    return ''.join(postfix)\n",
    "\n",
    "infix_expression = \"(B^2-4*A*C)^(1/2)*(100)\"\n",
    "postfix_expression = infix_to_postfix(infix_expression)\n",
    "print(\"Infix Expression:\", infix_expression)\n",
    "print(\"Postfix Expression:\", postfix_expression)\n"
   ]
  },
  {
   "cell_type": "code",
   "execution_count": null,
   "id": "64b39c52",
   "metadata": {},
   "outputs": [],
   "source": []
  }
 ],
 "metadata": {
  "kernelspec": {
   "display_name": "Python 3 (ipykernel)",
   "language": "python",
   "name": "python3"
  },
  "language_info": {
   "codemirror_mode": {
    "name": "ipython",
    "version": 3
   },
   "file_extension": ".py",
   "mimetype": "text/x-python",
   "name": "python",
   "nbconvert_exporter": "python",
   "pygments_lexer": "ipython3",
   "version": "3.11.4"
  }
 },
 "nbformat": 4,
 "nbformat_minor": 5
}
