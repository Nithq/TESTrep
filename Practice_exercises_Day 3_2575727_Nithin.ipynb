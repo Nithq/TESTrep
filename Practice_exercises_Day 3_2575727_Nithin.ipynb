{
 "cells": [
  {
   "cell_type": "markdown",
   "id": "db1c7bfd",
   "metadata": {},
   "source": [
    "# 1.Write a python function that copies a file reading and writing upto 50 characters at a time\n"
   ]
  },
  {
   "cell_type": "code",
   "execution_count": 8,
   "id": "76631b2e",
   "metadata": {},
   "outputs": [
    {
     "name": "stdout",
     "output_type": "stream",
     "text": [
      "File 'sample3.txt' copied to 'destination_file.txt' successfully.\n"
     ]
    }
   ],
   "source": [
    "def copy_file_chunk_by_chunk(source_file, destination_file):\n",
    "    try:\n",
    "        with open(source_file, 'rb') as source, open(destination_file, 'wb') as destination:\n",
    "            while True:\n",
    "                chunk = source.read(50)\n",
    "                if not chunk:\n",
    "                    break\n",
    "                destination.write(chunk)\n",
    "        print(f\"File '{source_file}' copied to '{destination_file}' successfully.\")\n",
    "    except FileNotFoundError:\n",
    "        print(f\"File not found: {source_file}\")\n",
    "    except Exception as e:\n",
    "        print(\"An error occurred:\", str(e))\n",
    "\n",
    "# Example usage:\n",
    "source_file_path = \"sample3.txt\"  \n",
    "destination_file_path = \"destination_file.txt\"  #\n",
    "\n",
    "copy_file_chunk_by_chunk(source_file_path, destination_file_path)\n"
   ]
  },
  {
   "cell_type": "markdown",
   "id": "e76dadfa",
   "metadata": {},
   "source": [
    "# 2 Print all numbers present in the text file and print the number of blank spaces in that file \n"
   ]
  },
  {
   "cell_type": "code",
   "execution_count": 6,
   "id": "abde09de",
   "metadata": {},
   "outputs": [
    {
     "name": "stdout",
     "output_type": "stream",
     "text": [
      "Numbers in the file:\n",
      "Number: 89\n",
      "Number of blank spaces: 551\n"
     ]
    }
   ],
   "source": [
    "# Function to count the number of blank spaces in a string\n",
    "def count_blank_spaces(text):\n",
    "    count = 0\n",
    "    for char in text:\n",
    "        if char.isspace():\n",
    "            count += 1\n",
    "    return count\n",
    "\n",
    "# Function to extract and print numbers from a string\n",
    "def print_numbers_from_text(text):\n",
    "    import re\n",
    "    numbers = re.findall(r'\\d+', text)\n",
    "    for number in numbers:\n",
    "        print(\"Number:\", number)\n",
    "\n",
    "# Main program\n",
    "file_path = \"sample3.txt\"  \n",
    "\n",
    "try:\n",
    "    with open(file_path, 'r') as file:\n",
    "        content = file.read()\n",
    "        print(\"Numbers in the file:\")\n",
    "        print_numbers_from_text(content)\n",
    "\n",
    "        blank_space_count = count_blank_spaces(content)\n",
    "        print(\"Number of blank spaces:\", blank_space_count)\n",
    "\n",
    "except FileNotFoundError:\n",
    "    print(f\"File not found: {file_path}\")\n",
    "except Exception as e:\n",
    "    print(\"An error occurred:\", str(e))\n"
   ]
  },
  {
   "cell_type": "markdown",
   "id": "051d579a",
   "metadata": {},
   "source": [
    "# 3 Write a function called sed that takes as arguments a pattern string,a replacement string and two filenames; it should read the first file and write the contents into the second file(creating it if necessary).If the pattern string appears anywhere in the file,it should be replaced with the replacement string.If an error occurs while opening,reading,writing or closing files,your program should catch the exception print an error message and exit"
   ]
  },
  {
   "cell_type": "code",
   "execution_count": 13,
   "id": "173f0f1a",
   "metadata": {},
   "outputs": [
    {
     "name": "stdout",
     "output_type": "stream",
     "text": [
      "File 'IN.txt' processed and saved to 'out.txt' successfully.\n"
     ]
    }
   ],
   "source": [
    "def sed(pattern, replacement, input_file, output_file):\n",
    "    try:\n",
    "        with open(input_file, 'r') as source_file, open(output_file, 'w') as destination_file:\n",
    "            for line in source_file:\n",
    "                modified_line = line.replace(pattern, replacement)\n",
    "                destination_file.write(modified_line)\n",
    "        print(f\"File '{input_file}' processed and saved to '{output_file}' successfully.\")\n",
    "    except FileNotFoundError:\n",
    "        print(f\"File not found: {input_file}\")\n",
    "    except Exception as e:\n",
    "        print(\"An error occurred:\", str(e))\n",
    "\n",
    "# Example usage:\n",
    "pattern = \"Prompt\"  \n",
    "replacement = \"Text file\"  \n",
    "input_file_path = \"IN.txt\"  \n",
    "output_file_path = \"out.txt\"  \n",
    "\n",
    "sed(pattern, replacement, input_file_path, output_file_path)\n"
   ]
  },
  {
   "cell_type": "markdown",
   "id": "acb0b83e",
   "metadata": {},
   "source": [
    "# 4.Log file Analysis: You have a log file containing records of user activities on a website.Each line in the file represents a log entry with details like timestamp, user ID and action performed.Your task is to analyze this log file\n",
    "    a.Write Python code to read the log file and extract specific information, such as the number of unique users or the most common action\n",
    "    b.How would you handle large log files efficiently without loading the entire file into memory?"
   ]
  },
  {
   "cell_type": "code",
   "execution_count": 1,
   "id": "8d5780c6",
   "metadata": {},
   "outputs": [
    {
     "name": "stdout",
     "output_type": "stream",
     "text": [
      "Number of unique users: 1\n",
      "Most common action:  branch=c5558820f367665758d4d719b7553a02ff4954e0 (3 times)\n"
     ]
    }
   ],
   "source": [
    "from collections import Counter\n",
    "\n",
    "# Function to analyze a log file\n",
    "def analyze_log_file(log_file):\n",
    "    unique_users = set()\n",
    "    action_counts = Counter()\n",
    "\n",
    "    try:\n",
    "        with open(log_file, 'r') as file:\n",
    "            for line in file:\n",
    "                parts = line.strip().split(',')  # Assuming CSV format, adjust as needed\n",
    "                if len(parts) >= 3:\n",
    "                    timestamp, user_id, action = parts[:3]  # Assuming timestamp, user ID, and action are in the first three columns\n",
    "                    unique_users.add(user_id)\n",
    "                    action_counts[action] += 1\n",
    "\n",
    "        most_common_action, most_common_count = action_counts.most_common(1)[0]\n",
    "\n",
    "        print(f\"Number of unique users: {len(unique_users)}\")\n",
    "        print(f\"Most common action: {most_common_action} ({most_common_count} times)\")\n",
    "\n",
    "    except FileNotFoundError:\n",
    "        print(f\"File not found: {log_file}\")\n",
    "    except Exception as e:\n",
    "        print(\"An error occurred:\", str(e))\n",
    "\n",
    "# Example usage:\n",
    "log_file_path = \"Log Sample.log\"  # Replace with the path to your log file\n",
    "analyze_log_file(log_file_path)\n"
   ]
  },
  {
   "cell_type": "markdown",
   "id": "16c01def",
   "metadata": {},
   "source": [
    "# 5.Text file search and replace:You have a text file witha large amount of text, and you want to search words or phrases and replace them with new content\n",
    "    a.Write Python code to search for and replace text within a text file\n",
    "    b. How would you handle cases where you need to perform multiple replacements in a single pass?"
   ]
  },
  {
   "cell_type": "code",
   "execution_count": 31,
   "id": "5af43d2b",
   "metadata": {},
   "outputs": [
    {
     "name": "stdout",
     "output_type": "stream",
     "text": [
      "Search and replace completed. Result saved in 'out5.txt'\n"
     ]
    }
   ],
   "source": [
    "def search_and_replace(input_file, output_file, search_text, replace_text):\n",
    "    try:\n",
    "        with open(input_file, 'r') as infile, open(output_file, 'w') as outfile:\n",
    "            for line in infile:\n",
    "                updated_line = line.replace(search_text, replace_text)\n",
    "                outfile.write(updated_line)\n",
    "        print(f\"Search and replace completed. Result saved in '{output_file}'\")\n",
    "    except FileNotFoundError:\n",
    "        print(f\"File not found: {input_file}\")\n",
    "    except Exception as e:\n",
    "        print(\"An error occurred:\", str(e))\n",
    "\n",
    "# Example usage:\n",
    "input_file_path = \"sample3.txt\"       # Replace with the input file path\n",
    "output_file_path = \"out5.txt\"     # Replace with the output file path\n",
    "search_string = \"Quod equidem non reprehendo\"          # Replace with the text you want to search for\n",
    "replace_string = \"Content is listed below\"         # Replace with the text you want to replace it with\n",
    "\n",
    "search_and_replace(input_file_path, output_file_path, search_string, replace_string)\n"
   ]
  },
  {
   "cell_type": "markdown",
   "id": "fdad4471",
   "metadata": {},
   "source": [
    "# 6)write a python script that concatenates the contents of multiple text files into a single output file. Allow the user to specify the input and the output file."
   ]
  },
  {
   "cell_type": "code",
   "execution_count": 30,
   "id": "8c5809be",
   "metadata": {},
   "outputs": [
    {
     "name": "stdout",
     "output_type": "stream",
     "text": [
      "File Concatenation Script\n",
      "Enter the path of an input file (or type 'done' to finish): IN.txt\n",
      "Enter the path of an input file (or type 'done' to finish): done\n",
      "Enter the path of the output file: Con_out.txt\n",
      "Concatenated files into 'Con_out.txt' successfully.\n"
     ]
    }
   ],
   "source": [
    "def concatenate_files(input_files, output_file):\n",
    "    try:\n",
    "        with open(output_file, 'w') as output:\n",
    "            for input_file in input_files:\n",
    "                with open(input_file, 'r') as input:\n",
    "                    output.write(input.read())\n",
    "        print(f\"Concatenated files into '{output_file}' successfully.\")\n",
    "    except FileNotFoundError as e:\n",
    "        print(f\"File not found: {str(e)}\")\n",
    "    except Exception as e:\n",
    "        print(\"An error occurred:\", str(e))\n",
    "\n",
    "def main():\n",
    "    print(\"File Concatenation Script\")\n",
    "\n",
    "    # Get input file paths from the user\n",
    "    input_files = []\n",
    "    while True:\n",
    "        input_file = input(\"Enter the path of an input file (or type 'done' to finish): \")\n",
    "        if input_file.lower() == 'done':\n",
    "            break\n",
    "        input_files.append(input_file)\n",
    "\n",
    "    if not input_files:\n",
    "        print(\"No input files provided. Exiting.\")\n",
    "        return\n",
    "\n",
    "    # Get the output file path from the user\n",
    "    output_file = input(\"Enter the path of the output file: \")\n",
    "\n",
    "    # Concatenate the input files into the output file\n",
    "    concatenate_files(input_files, output_file)\n",
    "\n",
    "if __name__ == \"__main__\":\n",
    "    main()\n",
    "\n"
   ]
  },
  {
   "cell_type": "markdown",
   "id": "0befbf3b",
   "metadata": {},
   "source": [
    "# 7.You are given a text file named input.txt containing a list of words, one word per line. Your task is to create a python program that reads the contents of input.txt, processes the words, and writes the result to an output file named output.txt.\n",
    "a. The program should perform the following operations: \n",
    "i)Read the words from input.txt. \n",
    "ii) For each word in the input file, calculate the length of the word and store it in a dictionary where the word is the key, and the length is the value. \n",
    "iii) Write the word-length dictionary to output.txt in the following format: \n",
    "Word1: Length1  Word2: Length2. \n",
    "iv) Close both input and output files properly. \n",
    "v) Write python code to accomplish this task . Ensure proper error handling for  file operations."
   ]
  },
  {
   "cell_type": "code",
   "execution_count": 33,
   "id": "92939441",
   "metadata": {},
   "outputs": [
    {
     "name": "stdout",
     "output_type": "stream",
     "text": [
      "Processing completed. Results saved in 'Result_OP.txt'\n"
     ]
    }
   ],
   "source": [
    "def process_words(input_file, output_file):\n",
    "    word_length_dict = {}  # Dictionary to store word-length pairs\n",
    "\n",
    "    try:\n",
    "        # Read words from input file and calculate their lengths\n",
    "        with open(input_file, 'r') as infile:\n",
    "            for line in infile:\n",
    "                word = line.strip()\n",
    "                length = len(word)\n",
    "                word_length_dict[word] = length\n",
    "\n",
    "        # Write word-length dictionary to output file\n",
    "        with open(output_file, 'w') as outfile:\n",
    "            for word, length in word_length_dict.items():\n",
    "                outfile.write(f\"{word}: {length} \")\n",
    "\n",
    "        print(f\"Processing completed. Results saved in '{output_file}'\")\n",
    "\n",
    "    except FileNotFoundError:\n",
    "        print(f\"File not found: {input_file}\")\n",
    "    except Exception as e:\n",
    "        print(\"An error occurred:\", str(e))\n",
    "\n",
    "# Example usage:\n",
    "input_file_path = \"Countries_file.txt\"       # Replace with the input file path\n",
    "output_file_path = \"Result_OP.txt\"     # Replace with the output file path\n",
    "\n",
    "process_words(input_file_path, output_file_path)\n"
   ]
  },
  {
   "cell_type": "markdown",
   "id": "706e1253",
   "metadata": {},
   "source": [
    "# 8)Assume that you are developing a student gradebook system for a school. The system should allow teachers to input student grades for various subjects, store the data in files and provide students with the ability to view their grades\n",
    "Design a python program that accomplishes the following tasks\n",
    "i) Teachers should be able to input grades for students in different subjects\n",
    "ii) Store the student grade data in seperate text files for each subject\n",
    "iii) Students should be able to view their grades for each subject\n",
    "iv) Implement error handling for file operations, such as file not found or permission issues"
   ]
  },
  {
   "cell_type": "code",
   "execution_count": 23,
   "id": "1a6e8d14",
   "metadata": {},
   "outputs": [
    {
     "name": "stdout",
     "output_type": "stream",
     "text": [
      "\n",
      "Student Gradebook System\n",
      "1. Input Grades\n",
      "2. View Grades\n",
      "3. Exit\n",
      "Enter your choice (1/2/3): 1\n",
      "Enter student ID: 1\n",
      "Enter subject: Maths\n",
      "Enter grade: A\n",
      "Grade added for 1 in Maths\n",
      "\n",
      "Student Gradebook System\n",
      "1. Input Grades\n",
      "2. View Grades\n",
      "3. Exit\n",
      "Enter your choice (1/2/3): 2\n",
      "Enter student ID: 2\n",
      "\n",
      "Student Gradebook System\n",
      "1. Input Grades\n",
      "2. View Grades\n",
      "3. Exit\n",
      "Enter your choice (1/2/3): 3\n"
     ]
    }
   ],
   "source": [
    "import os\n",
    "\n",
    "class GradebookSystem:\n",
    "    def __init__(self):\n",
    "        self.data_dir = \"grade_data\"  # Directory to store grade data files\n",
    "        os.makedirs(self.data_dir, exist_ok=True)\n",
    "\n",
    "    def input_grades(self, student_id, subject, grade):\n",
    "        try:\n",
    "            # Create or open the subject's grade file for appending\n",
    "            with open(os.path.join(self.data_dir, f\"{subject}.txt\"), 'a') as file:\n",
    "                file.write(f\"{student_id}: {grade}\\n\")\n",
    "            print(f\"Grade added for {student_id} in {subject}\")\n",
    "        except Exception as e:\n",
    "            print(f\"Error while adding grade: {str(e)}\")\n",
    "\n",
    "    def view_grades(self, student_id):\n",
    "        try:\n",
    "            # List all subject files and display grades for the student\n",
    "            subject_files = os.listdir(self.data_dir)\n",
    "            for subject_file in subject_files:\n",
    "                with open(os.path.join(self.data_dir, subject_file), 'r') as file:\n",
    "                    for line in file:\n",
    "                        data = line.strip().split(': ')\n",
    "                        if len(data) == 2 and data[0] == student_id:\n",
    "                            print(f\"{subject_file[:-4]}: {data[1]}\")\n",
    "        except Exception as e:\n",
    "            print(f\"Error while viewing grades: {str(e)}\")\n",
    "\n",
    "def main():\n",
    "    gradebook = GradebookSystem()\n",
    "\n",
    "    while True:\n",
    "        print(\"\\nStudent Gradebook System\")\n",
    "        print(\"1. Input Grades\")\n",
    "        print(\"2. View Grades\")\n",
    "        print(\"3. Exit\")\n",
    "\n",
    "        choice = input(\"Enter your choice (1/2/3): \")\n",
    "\n",
    "        if choice == '1':\n",
    "            student_id = input(\"Enter student ID: \")\n",
    "            subject = input(\"Enter subject: \")\n",
    "            grade = input(\"Enter grade: \")\n",
    "            gradebook.input_grades(student_id, subject, grade)\n",
    "        elif choice == '2':\n",
    "            student_id = input(\"Enter student ID: \")\n",
    "            gradebook.view_grades(student_id)\n",
    "        elif choice == '3':\n",
    "            break\n",
    "        else:\n",
    "            print(\"Invalid choice. Please select 1, 2, or 3.\")\n",
    "\n",
    "if __name__ == \"__main__\":\n",
    "    main()\n"
   ]
  },
  {
   "cell_type": "code",
   "execution_count": null,
   "id": "c618d6bd",
   "metadata": {},
   "outputs": [],
   "source": []
  }
 ],
 "metadata": {
  "kernelspec": {
   "display_name": "Python 3 (ipykernel)",
   "language": "python",
   "name": "python3"
  },
  "language_info": {
   "codemirror_mode": {
    "name": "ipython",
    "version": 3
   },
   "file_extension": ".py",
   "mimetype": "text/x-python",
   "name": "python",
   "nbconvert_exporter": "python",
   "pygments_lexer": "ipython3",
   "version": "3.11.4"
  }
 },
 "nbformat": 4,
 "nbformat_minor": 5
}
