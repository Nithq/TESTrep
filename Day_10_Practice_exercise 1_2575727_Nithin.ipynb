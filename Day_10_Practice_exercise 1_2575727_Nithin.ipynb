{
 "cells": [
  {
   "cell_type": "code",
   "execution_count": 2,
   "id": "f9c95e3e",
   "metadata": {},
   "outputs": [],
   "source": [
    "%matplotlib inline\n",
    "import pandas as pd"
   ]
  },
  {
   "cell_type": "markdown",
   "id": "697ae0f4",
   "metadata": {},
   "source": [
    "# 1)How many movies are listed in the titles dataframe"
   ]
  },
  {
   "cell_type": "code",
   "execution_count": 28,
   "id": "0ee07856",
   "metadata": {},
   "outputs": [
    {
     "name": "stdout",
     "output_type": "stream",
     "text": [
      "Total number of movies listed: 244914\n"
     ]
    }
   ],
   "source": [
    "import pandas as pd\n",
    "\n",
    "# Read the CSV file into a dataframe\n",
    "df = pd.read_csv('titles.csv')\n",
    "\n",
    "# Get the number of movies in the dataframe\n",
    "num_movies = df.shape[0]\n",
    "\n",
    "print(f'Total number of movies listed: {num_movies}')\n"
   ]
  },
  {
   "cell_type": "markdown",
   "id": "734dabe7",
   "metadata": {},
   "source": [
    "# What are the earliest two films listed in the titles dataframe?"
   ]
  },
  {
   "cell_type": "code",
   "execution_count": 10,
   "id": "e80b64e7",
   "metadata": {},
   "outputs": [
    {
     "name": "stdout",
     "output_type": "stream",
     "text": [
      "\n",
      " The earliest two films listed in the titles DataFrame:\n",
      "                     title  year\n",
      "193222          Miss Jerry  1894\n",
      "51388   The Startled Lover  1898\n"
     ]
    }
   ],
   "source": [
    "earliest_films = df.sort_values('year').head(2)\n",
    "print(\"\\n The earliest two films listed in the titles DataFrame:\")\n",
    "print(earliest_films[['title', 'year']])"
   ]
  },
  {
   "cell_type": "markdown",
   "id": "bdc3f323",
   "metadata": {},
   "source": [
    "# How many movies have the title \"Hamlet\"?"
   ]
  },
  {
   "cell_type": "code",
   "execution_count": 12,
   "id": "08365164",
   "metadata": {},
   "outputs": [
    {
     "name": "stdout",
     "output_type": "stream",
     "text": [
      "\n",
      " Number of movies with the title 'Hamlet': 20\n"
     ]
    }
   ],
   "source": [
    "hamlet_movies = df[df['title'] == \"Hamlet\"]\n",
    "num_hamlet_movies = len(hamlet_movies)\n",
    "print(f\"\\n Number of movies with the title 'Hamlet': {num_hamlet_movies}\")"
   ]
  },
  {
   "cell_type": "markdown",
   "id": "5e7f9a0a",
   "metadata": {},
   "source": [
    "# How many movies are titled \"North by Northwest\"?"
   ]
  },
  {
   "cell_type": "code",
   "execution_count": 14,
   "id": "52b4342e",
   "metadata": {},
   "outputs": [
    {
     "name": "stdout",
     "output_type": "stream",
     "text": [
      "Number of movies titled 'North by Northwest': 1\n"
     ]
    }
   ],
   "source": [
    "north_by_northwest_count = len(df[df['title'] == 'North by Northwest'])\n",
    "print(\"Number of movies titled 'North by Northwest':\", north_by_northwest_count)"
   ]
  },
  {
   "cell_type": "markdown",
   "id": "f5fcd6d3",
   "metadata": {},
   "source": [
    "# When was the first movie titled \"Hamlet\" made?"
   ]
  },
  {
   "cell_type": "code",
   "execution_count": 15,
   "id": "7d5b931e",
   "metadata": {},
   "outputs": [
    {
     "name": "stdout",
     "output_type": "stream",
     "text": [
      "Year of the first 'Hamlet' movie: 1910\n"
     ]
    }
   ],
   "source": [
    "first_hamlet_year = df[df['title'] == 'Hamlet']['year'].min()\n",
    "print(\"Year of the first 'Hamlet' movie:\", first_hamlet_year)"
   ]
  },
  {
   "cell_type": "markdown",
   "id": "95213e6d",
   "metadata": {},
   "source": [
    "# List all of the \"Treasure Island\" movies from earliest to most recent"
   ]
  },
  {
   "cell_type": "code",
   "execution_count": 17,
   "id": "ec146990",
   "metadata": {},
   "outputs": [
    {
     "name": "stdout",
     "output_type": "stream",
     "text": [
      "'Treasure Island' movies:\n",
      "                  title  year\n",
      "55686   Treasure Island  1918\n",
      "196514  Treasure Island  1920\n",
      "141822  Treasure Island  1934\n",
      "77354   Treasure Island  1950\n",
      "65051   Treasure Island  1972\n",
      "37238   Treasure Island  1973\n",
      "173051  Treasure Island  1985\n",
      "27076   Treasure Island  1999\n"
     ]
    }
   ],
   "source": [
    "\n",
    "treasure_island_movies = df[df['title'] == 'Treasure Island'].sort_values('year')\n",
    "print(\"'Treasure Island' movies:\")\n",
    "print(treasure_island_movies[['title', 'year']])"
   ]
  },
  {
   "cell_type": "markdown",
   "id": "22bc674d",
   "metadata": {},
   "source": [
    "# How many movies were made in the year 1950?"
   ]
  },
  {
   "cell_type": "code",
   "execution_count": 19,
   "id": "6de12ced",
   "metadata": {},
   "outputs": [
    {
     "name": "stdout",
     "output_type": "stream",
     "text": [
      "Number of movies made in 1950: 1113\n"
     ]
    }
   ],
   "source": [
    "movies_1950_count = len(df[df['year'] == 1950])\n",
    "print(\"Number of movies made in 1950:\", movies_1950_count)"
   ]
  },
  {
   "cell_type": "markdown",
   "id": "da54a9ae",
   "metadata": {},
   "source": [
    "# How many movies were made in the year 1960?"
   ]
  },
  {
   "cell_type": "code",
   "execution_count": 20,
   "id": "a8af8676",
   "metadata": {},
   "outputs": [
    {
     "name": "stdout",
     "output_type": "stream",
     "text": [
      "Number of movies made in 1960: 1549\n"
     ]
    }
   ],
   "source": [
    "movies_1950_count = len(df[df['year'] == 1960])\n",
    "print(\"Number of movies made in 1960:\", movies_1950_count)"
   ]
  },
  {
   "cell_type": "markdown",
   "id": "6310acc0",
   "metadata": {},
   "source": [
    "# How many movies were made from 1950 through 1959?\n"
   ]
  },
  {
   "cell_type": "code",
   "execution_count": 21,
   "id": "f36db267",
   "metadata": {},
   "outputs": [
    {
     "name": "stdout",
     "output_type": "stream",
     "text": [
      "Number of movies made from 1950 through 1959: 12934\n"
     ]
    }
   ],
   "source": [
    "movies_1950s_count = len(df[(df['year'] >= 1950) & (df['year'] <= 1959)])\n",
    "print(\"Number of movies made from 1950 through 1959:\", movies_1950s_count)"
   ]
  },
  {
   "cell_type": "markdown",
   "id": "29bb0cac",
   "metadata": {},
   "source": [
    "# In what years has a movie titled \"Batman\" been released?"
   ]
  },
  {
   "cell_type": "code",
   "execution_count": 22,
   "id": "54a521e0",
   "metadata": {},
   "outputs": [
    {
     "name": "stdout",
     "output_type": "stream",
     "text": [
      "Years in which 'Batman' movies were released: [1943 1989]\n"
     ]
    }
   ],
   "source": [
    "batman_years = df[df['title'] == 'Batman']['year'].unique()\n",
    "print(\"Years in which 'Batman' movies were released:\", batman_years)"
   ]
  },
  {
   "cell_type": "markdown",
   "id": "a36b053f",
   "metadata": {},
   "source": [
    "# How many roles were there in the movie \"Inception\"?"
   ]
  },
  {
   "cell_type": "code",
   "execution_count": 33,
   "id": "4738e40f",
   "metadata": {},
   "outputs": [
    {
     "name": "stdout",
     "output_type": "stream",
     "text": [
      "Number of roles in the movie 'Inception': 78\n"
     ]
    }
   ],
   "source": [
    "import pandas as pd\n",
    "df= pd.read_csv('cast.csv')\n",
    "inception_roles_count = len(df[df['title'] == 'Inception'])\n",
    "print(\"Number of roles in the movie 'Inception':\", inception_roles_count)"
   ]
  },
  {
   "cell_type": "markdown",
   "id": "69c8ba58",
   "metadata": {},
   "source": [
    "# How many roles in the movie \"Inception\" are not ranked by an \"n\" value?"
   ]
  },
  {
   "cell_type": "code",
   "execution_count": 32,
   "id": "2b1ccb36",
   "metadata": {},
   "outputs": [
    {
     "name": "stdout",
     "output_type": "stream",
     "text": [
      "The number of roles in the movie \"Inception\" are not ranked by an \"n\" value is: 27\n"
     ]
    }
   ],
   "source": [
    "import pandas as pd\n",
    "df= pd.read_csv('cast.csv')\n",
    "inception_cast = df[df['title']=='Inception']\n",
    "num_unrank=inception_cast['n'].isnull().sum()\n",
    "print(f'The number of roles in the movie \"Inception\" are not ranked by an \"n\" value is: {num_unrank}' )"
   ]
  },
  {
   "cell_type": "markdown",
   "id": "531fb7d3",
   "metadata": {},
   "source": [
    "# How many roles in the movie \"Inception\" did receive an \"n\" value?"
   ]
  },
  {
   "cell_type": "code",
   "execution_count": 34,
   "id": "f59fc506",
   "metadata": {},
   "outputs": [
    {
     "name": "stdout",
     "output_type": "stream",
     "text": [
      "Number of roles in 'Inception' with 'n' value: 51\n"
     ]
    }
   ],
   "source": [
    "inception_roles_with_n_count = len(df[(df['title'] == 'Inception') & (df['n'].notna())])\n",
    "print(\"Number of roles in 'Inception' with 'n' value:\", inception_roles_with_n_count)"
   ]
  },
  {
   "cell_type": "markdown",
   "id": "2f90225a",
   "metadata": {},
   "source": [
    "# Display the cast of \"North by Northwest\" in their correct \"n\" -value order, ignoring roles with no \"n\" value"
   ]
  },
  {
   "cell_type": "code",
   "execution_count": 35,
   "id": "193fca07",
   "metadata": {},
   "outputs": [
    {
     "name": "stdout",
     "output_type": "stream",
     "text": [
      "14) Cast of 'North by Northwest' in 'n' order:\n",
      "                         name     n\n",
      "871426             Cary Grant   1.0\n",
      "3518333       Eva Marie Saint   2.0\n",
      "1457165           James Mason   3.0\n",
      "3157232   Jessie Royce Landis   4.0\n",
      "356707         Leo G. Carroll   5.0\n",
      "3048272  Josephine Hutchinson   6.0\n",
      "1695173           Philip Ober   7.0\n",
      "1275337         Martin Landau   8.0\n",
      "2447081         Adam Williams   9.0\n",
      "1811387          Edward Platt  10.0\n",
      "665768      Robert Ellenstein  11.0\n",
      "2295714          Les Tremayne  12.0\n",
      "464736        Philip Coolidge  13.0\n",
      "1508344         Patrick McVey  14.0\n",
      "206471           Edward Binns  15.0\n",
      "1384780             Ken Lynch  16.0\n"
     ]
    }
   ],
   "source": [
    "north_by_nw_cast = df[(df['title'] == 'North by Northwest') & (df['n'].notna())].sort_values('n')\n",
    "print(\"14) Cast of 'North by Northwest' in 'n' order:\")\n",
    "print(north_by_nw_cast[['name', 'n']])"
   ]
  },
  {
   "cell_type": "markdown",
   "id": "0803a2f5",
   "metadata": {},
   "source": [
    "# Display the entire cast, in \"n\" - order, of the 1972 film \"Sleuth\""
   ]
  },
  {
   "cell_type": "code",
   "execution_count": 36,
   "id": "dd0410d0",
   "metadata": {},
   "outputs": [
    {
     "name": "stdout",
     "output_type": "stream",
     "text": [
      "Cast of 'Sleuth' (1972) in 'n' order:\n",
      "                       name    n\n",
      "1705394    Laurence Olivier  1.0\n",
      "326773        Michael Caine  2.0\n",
      "373876       Alec Cawthorne  3.0\n",
      "1465483  John (II) Matthews  4.0\n",
      "2724553  Eve (III) Channing  5.0\n",
      "1448690        Teddy Martin  6.0\n"
     ]
    }
   ],
   "source": [
    "sleuth_1972_cast = df[(df['title'] == 'Sleuth') & (df['year'] == 1972)].sort_values('n')\n",
    "print(\"Cast of 'Sleuth' (1972) in 'n' order:\")\n",
    "print(sleuth_1972_cast[['name', 'n']])"
   ]
  },
  {
   "cell_type": "markdown",
   "id": "be2080fa",
   "metadata": {},
   "source": [
    "# Now display the entire cast, in \"n\" - order of the 2007 version of \"Sleuth\""
   ]
  },
  {
   "cell_type": "code",
   "execution_count": 39,
   "id": "8e673eca",
   "metadata": {},
   "outputs": [
    {
     "name": "stdout",
     "output_type": "stream",
     "text": [
      "Cast of 'Sleuth' (2007) in 'n' order:\n",
      "                        name    n\n",
      "326774         Michael Caine  1.0\n",
      "1293634             Jude Law  2.0\n",
      "1805907        Harold Pinter  3.0\n",
      "260242       Kenneth Branagh  NaN\n",
      "373877   Alec (II) Cawthorne  NaN\n",
      "2724552    Eve (II) Channing  NaN\n",
      "3370424    Carmel O'Sullivan  NaN\n"
     ]
    }
   ],
   "source": [
    "import pandas as pd\n",
    "df= pd.read_csv('cast.csv')\n",
    "sleuth_2007_cast = df[(df['title'] == 'Sleuth') & (df['year'] == 2007)].sort_values('n')\n",
    "print(\"Cast of 'Sleuth' (2007) in 'n' order:\")\n",
    "print(sleuth_2007_cast[['name', 'n']])"
   ]
  },
  {
   "cell_type": "markdown",
   "id": "37a014b9",
   "metadata": {},
   "source": [
    "# How many roles were credited in the silent 1921 version of Hamlet?"
   ]
  },
  {
   "cell_type": "code",
   "execution_count": 40,
   "id": "642b63e2",
   "metadata": {},
   "outputs": [
    {
     "name": "stdout",
     "output_type": "stream",
     "text": [
      "Number of roles in the silent 1921 version of 'Hamlet': 9\n"
     ]
    }
   ],
   "source": [
    "hamlet_1921_roles_count = len(df[(df['title'] == 'Hamlet') & (df['year'] == 1921)])\n",
    "print(\"Number of roles in the silent 1921 version of 'Hamlet':\", hamlet_1921_roles_count)"
   ]
  },
  {
   "cell_type": "markdown",
   "id": "21722f16",
   "metadata": {},
   "source": [
    "# How many roles were credited in Branagh's 1996 Hamlet?"
   ]
  },
  {
   "cell_type": "code",
   "execution_count": 42,
   "id": "4a08191e",
   "metadata": {},
   "outputs": [
    {
     "name": "stdout",
     "output_type": "stream",
     "text": [
      "Number of roles in Branagh's 1996 'Hamlet': 54\n"
     ]
    }
   ],
   "source": [
    "hamlet_1996_roles_count = len(df[(df['title'] == 'Hamlet') & (df['year'] == 1996)])\n",
    "print(\"Number of roles in Branagh's 1996 'Hamlet':\", hamlet_1996_roles_count)"
   ]
  },
  {
   "cell_type": "markdown",
   "id": "c137a749",
   "metadata": {},
   "source": [
    "# How many \"Hamlet\" roles have been listed in all film credits through history?"
   ]
  },
  {
   "cell_type": "code",
   "execution_count": 44,
   "id": "093a08e4",
   "metadata": {},
   "outputs": [
    {
     "name": "stdout",
     "output_type": "stream",
     "text": [
      " Total number of 'Hamlet' roles through history: 20\n"
     ]
    }
   ],
   "source": [
    "hamlet_total_roles_count = len(titles[titles['title'] == 'Hamlet'])\n",
    "print(\" Total number of 'Hamlet' roles through history:\", hamlet_total_roles_count)"
   ]
  },
  {
   "cell_type": "markdown",
   "id": "f9d231e3",
   "metadata": {},
   "source": [
    "# How many people have played an \"Ophelia\"?"
   ]
  },
  {
   "cell_type": "code",
   "execution_count": 47,
   "id": "380fc25e",
   "metadata": {},
   "outputs": [
    {
     "name": "stdout",
     "output_type": "stream",
     "text": [
      "Number of people who played 'Ophelia': 0\n"
     ]
    }
   ],
   "source": [
    "import pandas as pd\n",
    "df= pd.read_csv('cast.csv')\n",
    "ophelia_actors_count = len(df[df['name'] == 'Ophelia']['name'].unique())\n",
    "print(\"Number of people who played 'Ophelia':\", ophelia_actors_count)"
   ]
  },
  {
   "cell_type": "markdown",
   "id": "e89fd7cf",
   "metadata": {},
   "source": [
    "# How many people have played a role called \"The Dude\"?"
   ]
  },
  {
   "cell_type": "code",
   "execution_count": 50,
   "id": "d57386d1",
   "metadata": {},
   "outputs": [
    {
     "name": "stdout",
     "output_type": "stream",
     "text": [
      "Number of people who played 'The Dude': 0\n"
     ]
    }
   ],
   "source": [
    "df= pd.read_csv('cast.csv')\n",
    "the_dude_actors_count = len(df[df['name'] == 'The Dude']['name'].unique())\n",
    "print(\"Number of people who played 'The Dude':\", the_dude_actors_count)"
   ]
  },
  {
   "cell_type": "markdown",
   "id": "9014eded",
   "metadata": {},
   "source": [
    "# How many people have played a role called \"The Stranger\"?"
   ]
  },
  {
   "cell_type": "code",
   "execution_count": 55,
   "id": "1f97e2e2",
   "metadata": {},
   "outputs": [
    {
     "name": "stdout",
     "output_type": "stream",
     "text": [
      "Number of people who played 'The Stranger': 0\n",
      "Number of roles played by Sidney Poitier: 43\n"
     ]
    }
   ],
   "source": [
    "df= pd.read_csv('cast.csv')\n",
    "the_stranger_actors_count = len(df[df['name'] == 'The Stranger']['name'].unique())\n",
    "print(\"Number of people who played 'The Stranger':\", the_stranger_actors_count)\n",
    "\n",
    "# How many roles has Sidney Poitier played throughout his career?\n",
    "sidney_poitier_roles_count = len(df[df['name'] == 'Sidney Poitier'])\n",
    "print(\"Number of roles played by Sidney Poitier:\", sidney_poitier_roles_count)"
   ]
  },
  {
   "cell_type": "code",
   "execution_count": null,
   "id": "728185a8",
   "metadata": {},
   "outputs": [],
   "source": []
  }
 ],
 "metadata": {
  "kernelspec": {
   "display_name": "Python 3 (ipykernel)",
   "language": "python",
   "name": "python3"
  },
  "language_info": {
   "codemirror_mode": {
    "name": "ipython",
    "version": 3
   },
   "file_extension": ".py",
   "mimetype": "text/x-python",
   "name": "python",
   "nbconvert_exporter": "python",
   "pygments_lexer": "ipython3",
   "version": "3.11.4"
  }
 },
 "nbformat": 4,
 "nbformat_minor": 5
}
