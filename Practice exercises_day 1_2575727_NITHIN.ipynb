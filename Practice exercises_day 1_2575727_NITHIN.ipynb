{
 "cells": [
  {
   "cell_type": "markdown",
   "id": "439290c9",
   "metadata": {},
   "source": [
    "# Manipulate using a list\n"
   ]
  },
  {
   "cell_type": "code",
   "execution_count": 24,
   "id": "9ec651ee",
   "metadata": {},
   "outputs": [],
   "source": [
    "list1 = ['1','232','AIML']"
   ]
  },
  {
   "cell_type": "code",
   "execution_count": 12,
   "id": "eee3b4c2",
   "metadata": {},
   "outputs": [
    {
     "data": {
      "text/plain": [
       "['1', '232', 'AIML']"
      ]
     },
     "execution_count": 12,
     "metadata": {},
     "output_type": "execute_result"
    }
   ],
   "source": [
    "list1"
   ]
  },
  {
   "cell_type": "code",
   "execution_count": 13,
   "id": "711d893c",
   "metadata": {},
   "outputs": [],
   "source": [
    "# Add new elements to the end of the list\n",
    "list1.append('PYTHON')"
   ]
  },
  {
   "cell_type": "code",
   "execution_count": 15,
   "id": "0257f3e3",
   "metadata": {},
   "outputs": [
    {
     "data": {
      "text/plain": [
       "['1', '232', 'AIML', 'PYTHON']"
      ]
     },
     "execution_count": 15,
     "metadata": {},
     "output_type": "execute_result"
    }
   ],
   "source": [
    "list1"
   ]
  },
  {
   "cell_type": "code",
   "execution_count": 16,
   "id": "b477cd95",
   "metadata": {},
   "outputs": [],
   "source": [
    "# Reverse elements in the list\n",
    "list1.reverse()"
   ]
  },
  {
   "cell_type": "code",
   "execution_count": 17,
   "id": "bca49b8c",
   "metadata": {},
   "outputs": [
    {
     "data": {
      "text/plain": [
       "['PYTHON', 'AIML', '232', '1']"
      ]
     },
     "execution_count": 17,
     "metadata": {},
     "output_type": "execute_result"
    }
   ],
   "source": [
    "list1"
   ]
  },
  {
   "cell_type": "code",
   "execution_count": 21,
   "id": "f798b9ef",
   "metadata": {},
   "outputs": [
    {
     "name": "stdout",
     "output_type": "stream",
     "text": [
      "List displayed {n} times: ['PYTHON', 'AIML', '232', '1', 'PYTHON', 'AIML', '232', '1', 'PYTHON', 'AIML', '232', '1', 'PYTHON', 'AIML', '232', '1', 'PYTHON', 'AIML', '232', '1']\n"
     ]
    }
   ],
   "source": [
    "#Display the same list of elements multiple times\n",
    "n = 5\n",
    "updated_list = list1 * n\n",
    "print(\"List displayed {n} times:\", updated_list)"
   ]
  },
  {
   "cell_type": "code",
   "execution_count": 20,
   "id": "19e43cc0",
   "metadata": {},
   "outputs": [
    {
     "name": "stdout",
     "output_type": "stream",
     "text": [
      "Concatenated list is: ['PYTHON', 'AIML', '232', '1', 'Tools', '50 per', 'good']\n"
     ]
    }
   ],
   "source": [
    "#Concatenate two list\n",
    "list2 = ['Tools','50 per','good']\n",
    "c_list= list1 + list2\n",
    "print(\"Concatenated list is:\", c_list)"
   ]
  },
  {
   "cell_type": "code",
   "execution_count": 23,
   "id": "77085f5f",
   "metadata": {},
   "outputs": [
    {
     "data": {
      "text/plain": [
       "['1', '232', '50 per', 'AIML', 'PYTHON', 'Tools', 'good']"
      ]
     },
     "execution_count": 23,
     "metadata": {},
     "output_type": "execute_result"
    }
   ],
   "source": [
    "#Sort the elements in the list in ascending order\n",
    "sorted(c_list)"
   ]
  },
  {
   "cell_type": "markdown",
   "id": "d8d8d871",
   "metadata": {},
   "source": [
    "# Write a Python Program to do in the tuples"
   ]
  },
  {
   "cell_type": "code",
   "execution_count": 25,
   "id": "4008c44f",
   "metadata": {},
   "outputs": [],
   "source": [
    "# Create a tuple\n",
    "tuple1 = ('1','232','AIML')"
   ]
  },
  {
   "cell_type": "code",
   "execution_count": 27,
   "id": "94512ac1",
   "metadata": {},
   "outputs": [
    {
     "data": {
      "text/plain": [
       "('1', '232', 'AIML')"
      ]
     },
     "execution_count": 27,
     "metadata": {},
     "output_type": "execute_result"
    }
   ],
   "source": [
    "tuple1"
   ]
  },
  {
   "cell_type": "code",
   "execution_count": 30,
   "id": "8944d280",
   "metadata": {},
   "outputs": [],
   "source": [
    "# Add new elements to the end of the tuple\n",
    "tuple2=('Repo','Git')\n",
    "new_tuple=(tuple1 + tuple2)"
   ]
  },
  {
   "cell_type": "code",
   "execution_count": 31,
   "id": "b88d9d0a",
   "metadata": {},
   "outputs": [
    {
     "data": {
      "text/plain": [
       "('1', '232', 'AIML', 'Repo', 'Git')"
      ]
     },
     "execution_count": 31,
     "metadata": {},
     "output_type": "execute_result"
    }
   ],
   "source": [
    "new_tuple"
   ]
  },
  {
   "cell_type": "code",
   "execution_count": 32,
   "id": "73d343f5",
   "metadata": {},
   "outputs": [
    {
     "name": "stdout",
     "output_type": "stream",
     "text": [
      "The reversed tuple is ('Git', 'Repo', 'AIML', '232', '1')\n"
     ]
    }
   ],
   "source": [
    "# Reverse the elements in the tuple\n",
    "new_tuple = new_tuple[::-1]\n",
    "print(\"The reversed tuple is\", new_tuple)"
   ]
  },
  {
   "cell_type": "code",
   "execution_count": 35,
   "id": "8344f7bf",
   "metadata": {},
   "outputs": [],
   "source": [
    "# Display an element of the tuple multiple times\n",
    "n=3\n",
    "repeated_elements = (new_tuple) * n"
   ]
  },
  {
   "cell_type": "code",
   "execution_count": 36,
   "id": "6321e7c7",
   "metadata": {},
   "outputs": [
    {
     "data": {
      "text/plain": [
       "('Git',\n",
       " 'Repo',\n",
       " 'AIML',\n",
       " '232',\n",
       " '1',\n",
       " 'Git',\n",
       " 'Repo',\n",
       " 'AIML',\n",
       " '232',\n",
       " '1',\n",
       " 'Git',\n",
       " 'Repo',\n",
       " 'AIML',\n",
       " '232',\n",
       " '1')"
      ]
     },
     "execution_count": 36,
     "metadata": {},
     "output_type": "execute_result"
    }
   ],
   "source": [
    "repeated_elements"
   ]
  },
  {
   "cell_type": "code",
   "execution_count": 39,
   "id": "1d618cda",
   "metadata": {},
   "outputs": [
    {
     "name": "stdout",
     "output_type": "stream",
     "text": [
      "The concatenated list is ('Repo', 'Git', 'Git', 'Repo', 'AIML', '232', '1')\n"
     ]
    }
   ],
   "source": [
    " #Concatenate two tuples\n",
    "tuple3 = tuple2 + new_tuple\n",
    "print(\"The concatenated list is\", tuple3)"
   ]
  },
  {
   "cell_type": "code",
   "execution_count": 41,
   "id": "6b5bd88e",
   "metadata": {},
   "outputs": [
    {
     "name": "stdout",
     "output_type": "stream",
     "text": [
      "The sorted tuple is ('1', '232', 'AIML', 'Git', 'Git', 'Repo', 'Repo')\n"
     ]
    }
   ],
   "source": [
    "# Sort the elements in the list in ascending order\n",
    "sorted_tuple = tuple(sorted(tuple3))\n",
    "print(\"The sorted tuple is\", sorted_tuple)\n"
   ]
  },
  {
   "cell_type": "markdown",
   "id": "593cede2",
   "metadata": {},
   "source": [
    "# 3 Write a python program to implement the following"
   ]
  },
  {
   "cell_type": "code",
   "execution_count": 42,
   "id": "2968df6a",
   "metadata": {},
   "outputs": [],
   "source": [
    "# Create a list with integers\n",
    "integer_list = [1, 2, 3, 4, 5, 6, 7, 8, 9, 10]"
   ]
  },
  {
   "cell_type": "code",
   "execution_count": 43,
   "id": "52c50e15",
   "metadata": {},
   "outputs": [
    {
     "name": "stdout",
     "output_type": "stream",
     "text": [
      "Last number in the list: 10\n"
     ]
    }
   ],
   "source": [
    "# Display the last number in the list\n",
    "last_number = integer_list[-1]\n",
    "print(\"Last number in the list:\", last_number)"
   ]
  },
  {
   "cell_type": "code",
   "execution_count": 44,
   "id": "9e18c8e9",
   "metadata": {},
   "outputs": [
    {
     "name": "stdout",
     "output_type": "stream",
     "text": [
      "Values from index 0 to 3: [1, 2, 3, 4]\n"
     ]
    }
   ],
   "source": [
    "# Display the values from the list [0:4]\n",
    "slice1 = integer_list[0:4]\n",
    "print(\"Values from index 0 to 3:\", slice1)"
   ]
  },
  {
   "cell_type": "code",
   "execution_count": 45,
   "id": "c3bb63c6",
   "metadata": {},
   "outputs": [
    {
     "name": "stdout",
     "output_type": "stream",
     "text": [
      "Values from index 2 to the end: [3, 4, 5, 6, 7, 8, 9, 10]\n"
     ]
    }
   ],
   "source": [
    "# Display the values from the list [2:]\n",
    "slice2 = integer_list[2:]\n",
    "print(\"Values from index 2 to the end:\", slice2)\n"
   ]
  },
  {
   "cell_type": "code",
   "execution_count": 46,
   "id": "d040ab82",
   "metadata": {},
   "outputs": [
    {
     "name": "stdout",
     "output_type": "stream",
     "text": [
      "Values from the beginning up to index 5: [1, 2, 3, 4, 5, 6]\n"
     ]
    }
   ],
   "source": [
    "# Display the values from the list [:6]\n",
    "slice3 = integer_list[:6]\n",
    "print(\"Values from the beginning up to index 5:\", slice3)"
   ]
  },
  {
   "cell_type": "markdown",
   "id": "0a4179b8",
   "metadata": {},
   "source": [
    "# 4.Write a python Program for the following"
   ]
  },
  {
   "cell_type": "code",
   "execution_count": 1,
   "id": "1aff5dd1",
   "metadata": {},
   "outputs": [],
   "source": [
    "# Define the tuple\n",
    "tuple1 = (10, 50, 20, 40, 30)"
   ]
  },
  {
   "cell_type": "code",
   "execution_count": 2,
   "id": "e0ad6deb",
   "metadata": {},
   "outputs": [
    {
     "data": {
      "text/plain": [
       "(10, 50, 20, 40, 30)"
      ]
     },
     "execution_count": 2,
     "metadata": {},
     "output_type": "execute_result"
    }
   ],
   "source": [
    "tuple1"
   ]
  },
  {
   "cell_type": "code",
   "execution_count": 3,
   "id": "867886b0",
   "metadata": {},
   "outputs": [
    {
     "name": "stdout",
     "output_type": "stream",
     "text": [
      "Element 1: 10\n",
      "Element 2: 50\n"
     ]
    }
   ],
   "source": [
    "# Display the elements 10 and 50 from tuple1\n",
    "element1 = tuple1[0]\n",
    "element2 = tuple1[1]\n",
    "\n",
    "print(\"Element 1:\", element1)\n",
    "print(\"Element 2:\", element2)"
   ]
  },
  {
   "cell_type": "code",
   "execution_count": 4,
   "id": "2b853f5c",
   "metadata": {},
   "outputs": [
    {
     "name": "stdout",
     "output_type": "stream",
     "text": [
      "Length of tuple1: 5\n"
     ]
    }
   ],
   "source": [
    "# Display the length of tuple1\n",
    "length_of_tuple1 = len(tuple1)\n",
    "print(\"Length of tuple1:\", length_of_tuple1)"
   ]
  },
  {
   "cell_type": "code",
   "execution_count": 5,
   "id": "bdac5e55",
   "metadata": {},
   "outputs": [
    {
     "name": "stdout",
     "output_type": "stream",
     "text": [
      "Minimum element in tuple1: 10\n"
     ]
    }
   ],
   "source": [
    "# Find the minimum element from tuple1\n",
    "min_element = min(tuple1)\n",
    "print(\"Minimum element in tuple1:\", min_element)\n"
   ]
  },
  {
   "cell_type": "code",
   "execution_count": 6,
   "id": "14f5d717",
   "metadata": {},
   "outputs": [
    {
     "name": "stdout",
     "output_type": "stream",
     "text": [
      "Sum of elements in tuple1: 150\n"
     ]
    }
   ],
   "source": [
    "# Add all elements in tuple1\n",
    "sum_elements = sum(tuple1)\n",
    "print(\"Sum of elements in tuple1:\", sum_elements)\n"
   ]
  },
  {
   "cell_type": "code",
   "execution_count": 9,
   "id": "3fbcf907",
   "metadata": {},
   "outputs": [
    {
     "name": "stdout",
     "output_type": "stream",
     "text": [
      "Displaying tuple1 3 times:\n",
      "(10, 50, 20, 40, 30)\n",
      "(10, 50, 20, 40, 30)\n",
      "(10, 50, 20, 40, 30)\n"
     ]
    }
   ],
   "source": [
    "# Display tuple1 multiple times\n",
    "n = 3 \n",
    "print(f\"Displaying tuple1 {n} times:\")\n",
    "for _ in range(n):\n",
    "    print(tuple1)"
   ]
  },
  {
   "cell_type": "markdown",
   "id": "76ca863d",
   "metadata": {},
   "source": [
    "# 5 Write a Python Program"
   ]
  },
  {
   "cell_type": "code",
   "execution_count": 11,
   "id": "1653964a",
   "metadata": {},
   "outputs": [],
   "source": [
    "string = \"South India\"\n",
    "    \n"
   ]
  },
  {
   "cell_type": "code",
   "execution_count": 12,
   "id": "96f6af04",
   "metadata": {},
   "outputs": [
    {
     "data": {
      "text/plain": [
       "'South India'"
      ]
     },
     "execution_count": 12,
     "metadata": {},
     "output_type": "execute_result"
    }
   ],
   "source": [
    "string"
   ]
  },
  {
   "cell_type": "code",
   "execution_count": 14,
   "id": "77bd108c",
   "metadata": {},
   "outputs": [
    {
     "name": "stdout",
     "output_type": "stream",
     "text": [
      "Length of the string: 11\n"
     ]
    }
   ],
   "source": [
    "# Calculate the length of the string\n",
    "length = len(string)\n",
    "print(f\"Length of the string: {length}\")"
   ]
  },
  {
   "cell_type": "code",
   "execution_count": 15,
   "id": "f834d8bf",
   "metadata": {},
   "outputs": [
    {
     "name": "stdout",
     "output_type": "stream",
     "text": [
      "Reversed words: India South\n"
     ]
    }
   ],
   "source": [
    "# Reverse words in the string\n",
    "words = string.split()\n",
    "reversed_words = ' '.join(reversed(words))\n",
    "print(\"Reversed words:\", reversed_words)"
   ]
  },
  {
   "cell_type": "code",
   "execution_count": 19,
   "id": "5e73e6e6",
   "metadata": {},
   "outputs": [
    {
     "name": "stdout",
     "output_type": "stream",
     "text": [
      "Enter the number of times to display the string: 8\n",
      "Repeated string: South IndiaSouth IndiaSouth IndiaSouth IndiaSouth IndiaSouth IndiaSouth IndiaSouth India\n"
     ]
    }
   ],
   "source": [
    "# Display the same string multiple times\n",
    "num_times = int(input(\"Enter the number of times to display the string: \"))\n",
    "print(\"Repeated string:\",string * num_times)"
   ]
  },
  {
   "cell_type": "code",
   "execution_count": 20,
   "id": "1ba89bcb",
   "metadata": {},
   "outputs": [
    {
     "name": "stdout",
     "output_type": "stream",
     "text": [
      "Enter another string: \"North India\"\n",
      "Concatenated string: South India\"North India\"\n"
     ]
    }
   ],
   "source": [
    "# Concatenate two strings\n",
    "str1 = \"South India\"\n",
    "str2 = input(\"Enter another string: \")\n",
    "concatenated_string = str1 + str2\n",
    "print(\"Concatenated string:\", concatenated_string)"
   ]
  },
  {
   "cell_type": "code",
   "execution_count": 23,
   "id": "91541165",
   "metadata": {},
   "outputs": [
    {
     "name": "stdout",
     "output_type": "stream",
     "text": [
      "Sliced string: India\n"
     ]
    }
   ],
   "source": [
    "# Use slicing to display only \"India\" from str1\n",
    "Sliced = str1[6:]\n",
    "print(\"Sliced string:\", Sliced)"
   ]
  },
  {
   "cell_type": "markdown",
   "id": "74133e07",
   "metadata": {},
   "source": [
    "# 6 Write the following program"
   ]
  },
  {
   "cell_type": "code",
   "execution_count": 24,
   "id": "7f8dd4a3",
   "metadata": {},
   "outputs": [],
   "source": [
    "# Creating a dictionary\n",
    "my_dict = {\n",
    "    'name': 'Nithin',\n",
    "    'age': 22,\n",
    "    'city': 'New York'\n",
    "}"
   ]
  },
  {
   "cell_type": "code",
   "execution_count": 25,
   "id": "37ea0fc3",
   "metadata": {},
   "outputs": [
    {
     "data": {
      "text/plain": [
       "{'name': 'Nithin', 'age': 22, 'city': 'New York'}"
      ]
     },
     "execution_count": 25,
     "metadata": {},
     "output_type": "execute_result"
    }
   ],
   "source": [
    "my_dict"
   ]
  },
  {
   "cell_type": "code",
   "execution_count": 26,
   "id": "97630539",
   "metadata": {},
   "outputs": [
    {
     "name": "stdout",
     "output_type": "stream",
     "text": [
      "Accessing values:\n",
      "Name: Nithin\n",
      "Age: 22\n",
      "City: New York\n"
     ]
    }
   ],
   "source": [
    "# Accessing values and keys in the dictionary\n",
    "print(\"Accessing values:\")\n",
    "print(\"Name:\", my_dict['name'])\n",
    "print(\"Age:\", my_dict['age'])\n",
    "print(\"City:\", my_dict['city'])"
   ]
  },
  {
   "cell_type": "code",
   "execution_count": 27,
   "id": "4c47c9f4",
   "metadata": {},
   "outputs": [
    {
     "name": "stdout",
     "output_type": "stream",
     "text": [
      "\n",
      "Accessing keys:\n",
      "name\n",
      "age\n",
      "city\n"
     ]
    }
   ],
   "source": [
    "print(\"\\nAccessing keys:\")\n",
    "for key in my_dict.keys():\n",
    "    print(key)"
   ]
  },
  {
   "cell_type": "code",
   "execution_count": 28,
   "id": "15ef9cfb",
   "metadata": {},
   "outputs": [
    {
     "name": "stdout",
     "output_type": "stream",
     "text": [
      "\n",
      "Updating age to 23:\n",
      "New Age: 23\n"
     ]
    }
   ],
   "source": [
    "# Updating the dictionary using a function\n",
    "def update_age(dictionary, new_age):\n",
    "    dictionary['age'] = new_age\n",
    "\n",
    "print(\"\\nUpdating age to 23:\")\n",
    "update_age(my_dict, 23)\n",
    "print(\"New Age:\", my_dict['age'])\n"
   ]
  },
  {
   "cell_type": "code",
   "execution_count": 29,
   "id": "2c32aafa",
   "metadata": {},
   "outputs": [
    {
     "name": "stdout",
     "output_type": "stream",
     "text": [
      "\n",
      "After deleting 'city' key: {'name': 'Nithin', 'age': 23}\n"
     ]
    }
   ],
   "source": [
    "# Deleting a specific key-value pair\n",
    "if 'city' in my_dict:\n",
    "    del my_dict['city']\n",
    "\n",
    "print(\"\\nAfter deleting 'city' key:\", my_dict)"
   ]
  },
  {
   "cell_type": "markdown",
   "id": "b71e7243",
   "metadata": {},
   "source": [
    "# 7 Python program to insert a number to any position in a list"
   ]
  },
  {
   "cell_type": "code",
   "execution_count": 30,
   "id": "7dabb786",
   "metadata": {},
   "outputs": [
    {
     "name": "stdout",
     "output_type": "stream",
     "text": [
      "Updated list: [1, 2, 6, 3, 4, 5]\n"
     ]
    }
   ],
   "source": [
    "# Sample list\n",
    "my_list = [1, 2, 3, 4, 5]\n",
    "\n",
    "# Number to insert\n",
    "number_to_insert = 6\n",
    "\n",
    "# Position to insert \n",
    "position_to_insert = 2\n",
    "\n",
    "if position_to_insert >= 0 and position_to_insert <= len(my_list):\n",
    "   \n",
    "    my_list.insert(position_to_insert, number_to_insert)\n",
    "    print(f\"Updated list: {my_list}\")\n",
    "else:\n",
    "    print(\"Invalid position. Position should be between 0 and the length of the list.\")\n",
    "\n"
   ]
  },
  {
   "cell_type": "markdown",
   "id": "f5138449",
   "metadata": {},
   "source": [
    "# 8 Python Program to delete an element from a list by index"
   ]
  },
  {
   "cell_type": "code",
   "execution_count": 33,
   "id": "a1c27a4f",
   "metadata": {},
   "outputs": [
    {
     "name": "stdout",
     "output_type": "stream",
     "text": [
      "Deleted element: 3\n",
      "Updated list after deletion: [1, 2, 4, 5]\n"
     ]
    }
   ],
   "source": [
    "\n",
    "my_list = [1, 2, 3, 4, 5]\n",
    "\n",
    "# Index of the element to delete\n",
    "index_to_delete = 2\n",
    "\n",
    "# Delete the element at the specified index\n",
    "delete_element_by_index(my_list, index_to_delete)\n",
    "\n",
    "# Display the updated list\n",
    "print(\"Updated list after deletion:\", my_list)\n"
   ]
  },
  {
   "cell_type": "markdown",
   "id": "5ab2e36b",
   "metadata": {},
   "source": [
    "# 9 Write a program to display number from 1 to 100"
   ]
  },
  {
   "cell_type": "code",
   "execution_count": 36,
   "id": "48cc6438",
   "metadata": {},
   "outputs": [
    {
     "name": "stdout",
     "output_type": "stream",
     "text": [
      "1\n",
      "2\n",
      "3\n",
      "4\n",
      "5\n",
      "6\n",
      "7\n",
      "8\n",
      "9\n",
      "10\n",
      "11\n",
      "12\n",
      "13\n",
      "14\n",
      "15\n",
      "16\n",
      "17\n",
      "18\n",
      "19\n",
      "20\n",
      "21\n",
      "22\n",
      "23\n",
      "24\n",
      "25\n",
      "26\n",
      "27\n",
      "28\n",
      "29\n",
      "30\n",
      "31\n",
      "32\n",
      "33\n",
      "34\n",
      "35\n",
      "36\n",
      "37\n",
      "38\n",
      "39\n",
      "40\n",
      "41\n",
      "42\n",
      "43\n",
      "44\n",
      "45\n",
      "46\n",
      "47\n",
      "48\n",
      "49\n",
      "50\n",
      "51\n",
      "52\n",
      "53\n",
      "54\n",
      "55\n",
      "56\n",
      "57\n",
      "58\n",
      "59\n",
      "60\n",
      "61\n",
      "62\n",
      "63\n",
      "64\n",
      "65\n",
      "66\n",
      "67\n",
      "68\n",
      "69\n",
      "70\n",
      "71\n",
      "72\n",
      "73\n",
      "74\n",
      "75\n",
      "76\n",
      "77\n",
      "78\n",
      "79\n",
      "80\n",
      "81\n",
      "82\n",
      "83\n",
      "84\n",
      "85\n",
      "86\n",
      "87\n",
      "88\n",
      "89\n",
      "90\n",
      "91\n",
      "92\n",
      "93\n",
      "94\n",
      "95\n",
      "96\n",
      "97\n",
      "98\n",
      "99\n",
      "100\n"
     ]
    }
   ],
   "source": [
    "for number in range(1, 101):\n",
    "    print(number)"
   ]
  },
  {
   "cell_type": "markdown",
   "id": "86f42dbf",
   "metadata": {},
   "source": [
    "# 10 Write a python program to find the sum of all items in a tuple"
   ]
  },
  {
   "cell_type": "code",
   "execution_count": 38,
   "id": "6ce5e23d",
   "metadata": {},
   "outputs": [
    {
     "name": "stdout",
     "output_type": "stream",
     "text": [
      "Sum of elements in the tuple: 15\n"
     ]
    }
   ],
   "source": [
    "my_tuple = (1, 2, 3, 4, 5)\n",
    "result = sum(my_tuple)\n",
    "print(f\"Sum of elements in the tuple: {result}\")"
   ]
  },
  {
   "cell_type": "markdown",
   "id": "bd83eed6",
   "metadata": {},
   "source": [
    "# 12 A list of words is given.Find the words from the list that have their second character in uppercase\n",
    "ls = ['hello','Dear','hOw','ARe','You']"
   ]
  },
  {
   "cell_type": "code",
   "execution_count": 39,
   "id": "35af8f3e",
   "metadata": {},
   "outputs": [
    {
     "name": "stdout",
     "output_type": "stream",
     "text": [
      "['hOw', 'ARe']\n"
     ]
    }
   ],
   "source": [
    "ls = ['hello', 'Dear', 'hOw', 'ARe', 'You']\n",
    "\n",
    "result = []\n",
    "\n",
    "for word in ls:\n",
    "    if len(word) >= 2 and word[1].isupper():\n",
    "        result.append(word)\n",
    "\n",
    "print(result)"
   ]
  },
  {
   "cell_type": "markdown",
   "id": "0684c7cf",
   "metadata": {},
   "source": [
    "# 11 Create a dictionary containing three lambda functions square,cube and square root\n",
    " Pass the values to the functions in the dictionary respectively\n",
    "Then add the outputs of each function and print it"
   ]
  },
  {
   "cell_type": "code",
   "execution_count": 40,
   "id": "a54efd93",
   "metadata": {},
   "outputs": [
    {
     "name": "stdout",
     "output_type": "stream",
     "text": [
      "Square result: 16\n",
      "Cube result: 27\n",
      "Squareroot result: 4.0\n",
      "Total: 47.0\n"
     ]
    }
   ],
   "source": [
    "# Create a dictionary with lambda functions\n",
    "function_dict = {\n",
    "    'Square': lambda x: x ** 2,\n",
    "    'Cube': lambda x: x ** 3,\n",
    "    'Squareroot': lambda x: x ** 0.5\n",
    "}\n",
    "\n",
    "# Input values\n",
    "values = {\n",
    "    'Square': 4,\n",
    "    'Cube': 3,\n",
    "    'Squareroot': 16\n",
    "}\n",
    "\n",
    "# Calculate the results and store them in a dictionary\n",
    "results = {key: function(values[key]) for key, function in function_dict.items()}\n",
    "\n",
    "# Calculate the sum of the results\n",
    "total = sum(results.values())\n",
    "\n",
    "# Print the individual results and the total\n",
    "for key, value in results.items():\n",
    "    print(f'{key} result: {value}')\n",
    "\n",
    "print(f'Total: {total}')\n"
   ]
  },
  {
   "cell_type": "markdown",
   "id": "96547a4b",
   "metadata": {},
   "source": [
    "# 13 A DICTIONARY OF names and their weights on earth is given. Find how much they will weigh on the moon(use map and lambda functions)Formula : wmoon = (wearth* Gmoon)/GEarth\n",
    "i) Weight of people in kg\n",
    "        weightOnEarth ={'John':45,'Shelly':65,'Marry':35}\n",
    "ii)Gravitational force on the moon : 1.622m/s2\n",
    "        GMoon= 1.622\n",
    "iii)Gravitational force on the earth: 9.81 m/s2\n",
    "        GEarth = 9.81"
   ]
  },
  {
   "cell_type": "code",
   "execution_count": 41,
   "id": "fbced6ef",
   "metadata": {},
   "outputs": [
    {
     "name": "stdout",
     "output_type": "stream",
     "text": [
      "John's weight on the moon: 7.44 kg\n",
      "Shelly's weight on the moon: 10.75 kg\n",
      "Marry's weight on the moon: 5.79 kg\n"
     ]
    }
   ],
   "source": [
    "# Weight of people on Earth\n",
    "weightOnEarth = {'John': 45, 'Shelly': 65, 'Marry': 35}\n",
    "\n",
    "# Gravitational forces\n",
    "GMoon = 1.622\n",
    "GEarth = 9.81\n",
    "\n",
    "# Calculate the weights on the moon using map and lambda\n",
    "weightsOnMoon = list(map(lambda w: (w * GMoon) / GEarth, weightOnEarth.values()))\n",
    "\n",
    "# Create a dictionary with names and their weights on the moon\n",
    "weightOnMoon = dict(zip(weightOnEarth.keys(), weightsOnMoon))\n",
    "\n",
    "# Print the results\n",
    "for name, weight in weightOnMoon.items():\n",
    "    print(f\"{name}'s weight on the moon: {weight:.2f} kg\")\n"
   ]
  },
  {
   "cell_type": "markdown",
   "id": "5369f450",
   "metadata": {},
   "source": [
    "# CONTROL STRUCTURES:\n",
    "1.WRITE A PYTHON PROGRAM TO FIND THE FIRST N PRIME NUMBERS"
   ]
  },
  {
   "cell_type": "code",
   "execution_count": 45,
   "id": "d43e6eee",
   "metadata": {},
   "outputs": [
    {
     "name": "stdout",
     "output_type": "stream",
     "text": [
      "Enter the value of N: 88\n",
      "The first 88 prime numbers are:\n",
      "2 3 5 7 11 13 17 19 23 29 31 37 41 43 47 53 59 61 67 71 73 79 83 89 97 101 103 107 109 113 127 131 137 139 149 151 157 163 167 173 179 181 191 193 197 199 211 223 227 229 233 239 241 251 257 263 269 271 277 281 283 293 307 311 313 317 331 337 347 349 353 359 367 373 379 383 389 397 401 409 419 421 431 433 439 443 449 457 "
     ]
    }
   ],
   "source": [
    "def is_prime(num):\n",
    "    if num <= 1:\n",
    "        return False\n",
    "    for i in range(2, int(num**0.5) + 1):\n",
    "        if num % i == 0:\n",
    "            return False\n",
    "    return True\n",
    "\n",
    "n = int(input(\"Enter the value of N: \"))\n",
    "count = 0\n",
    "num = 2\n",
    "\n",
    "print(f\"The first {n} prime numbers are:\")\n",
    "while count < n:\n",
    "    if is_prime(num):\n",
    "        print(num, end=\" \")\n",
    "        count += 1\n",
    "    num += 1\n"
   ]
  },
  {
   "cell_type": "markdown",
   "id": "61db5534",
   "metadata": {},
   "source": [
    "# 2.Write the python code that calculates the salary of an employee.Prompt the user to enter the Basic Salary, HRA, TA and  DA.Add these components to calculate the Gross salary.Also,deduct 10% of salary from the Gross salary to be paid as tax and display gross minus tax as net salary\n"
   ]
  },
  {
   "cell_type": "code",
   "execution_count": 46,
   "id": "c4dd5787",
   "metadata": {},
   "outputs": [
    {
     "name": "stdout",
     "output_type": "stream",
     "text": [
      "Enter Basic Salary: 30000\n",
      "Enter House Rent Allowance (HRA): 7000\n",
      "Enter Travel Allowance (TA): 3000\n",
      "Enter Dearness Allowance (DA): 5000\n",
      "Gross Salary: 45000.0\n",
      "Tax: 4500.0\n",
      "Net Salary: 40500.0\n"
     ]
    }
   ],
   "source": [
    "#Allows the user to enter Basic Salary, HRA, TA, and DA\n",
    "basic_salary = float(input(\"Enter Basic Salary: \"))\n",
    "hra = float(input(\"Enter House Rent Allowance (HRA): \"))\n",
    "ta = float(input(\"Enter Travel Allowance (TA): \"))\n",
    "da = float(input(\"Enter Dearness Allowance (DA): \"))\n",
    "\n",
    "# Calculate Gross Salary by adding Basic Salary, HRA, TA, and DA\n",
    "gross_salary = basic_salary + hra + ta + da\n",
    "\n",
    "# Calculate tax (10% of Gross Salary)\n",
    "tax = 0.10 * gross_salary\n",
    "\n",
    "# Calculate Net Salary by deducting tax from Gross Salary\n",
    "net_salary = gross_salary - tax\n",
    "\n",
    "# Display the Gross and Net Salary\n",
    "print(f\"Gross Salary: {gross_salary}\")\n",
    "print(f\"Tax: {tax}\")\n",
    "print(f\"Net Salary: {net_salary}\")\n"
   ]
  },
  {
   "cell_type": "markdown",
   "id": "d1987977",
   "metadata": {},
   "source": [
    "# 3 Write a python program to search for a string in the given list"
   ]
  },
  {
   "cell_type": "code",
   "execution_count": 48,
   "id": "abce5d91",
   "metadata": {},
   "outputs": [
    {
     "name": "stdout",
     "output_type": "stream",
     "text": [
      "The search term '100' was found at indices: [5]\n"
     ]
    }
   ],
   "source": [
    "def search_string_in_list(search_string, input_list):\n",
    "    found_indices = []\n",
    "    for index, item in enumerate(input_list):\n",
    "        if search_string in item:\n",
    "            found_indices.append(index)\n",
    "    \n",
    "    return found_indices\n",
    "\n",
    "# Example list to search within\n",
    "my_list = [\"Name\", \"Nithin\", \"Roll no\", \"date\", \"Rank\", \"100\", \"150.8\"]\n",
    "search_term = \"100\"\n",
    "\n",
    "# Search for the search_term in the list\n",
    "result_indices = search_string_in_list(search_term, my_list)\n",
    "\n",
    "if result_indices:\n",
    "    print(f\"The search term '{search_term}' was found at indices: {result_indices}\")\n",
    "else:\n",
    "    print(f\"The search term '{search_term}' was not found in the list.\")\n"
   ]
  },
  {
   "cell_type": "markdown",
   "id": "be11f341",
   "metadata": {},
   "source": [
    "# 4.Write a python program that accepts the string and calculates the number of upper case letters and lower case letters"
   ]
  },
  {
   "cell_type": "code",
   "execution_count": 49,
   "id": "298783b6",
   "metadata": {},
   "outputs": [
    {
     "name": "stdout",
     "output_type": "stream",
     "text": [
      "Enter a string: My Name is Nithin\n",
      "Uppercase letters: 3\n",
      "Lowercase letters: 11\n"
     ]
    }
   ],
   "source": [
    "def count_upper_lower(input_string):\n",
    "    # Initialize counters for uppercase and lowercase letters\n",
    "    upper_count = 0\n",
    "    lower_count = 0\n",
    "\n",
    "    # Iterate through each character in the input string\n",
    "    for char in input_string:\n",
    "        if char.isupper():\n",
    "            upper_count += 1\n",
    "        elif char.islower():\n",
    "            lower_count += 1\n",
    "\n",
    "    return upper_count, lower_count\n",
    "\n",
    "# Input string from the user\n",
    "user_input = input(\"Enter a string: \")\n",
    "\n",
    "# Call the function to count uppercase and lowercase letters\n",
    "upper_count, lower_count = count_upper_lower(user_input)\n",
    "\n",
    "# Display the results\n",
    "print(\"Uppercase letters:\", upper_count)\n",
    "print(\"Lowercase letters:\", lower_count)\n"
   ]
  },
  {
   "cell_type": "markdown",
   "id": "55d1b2bb",
   "metadata": {},
   "source": [
    "# 5 Write a program to display the sum of odd numbers and even numbers that fall between 12 and 37"
   ]
  },
  {
   "cell_type": "code",
   "execution_count": 50,
   "id": "1292223e",
   "metadata": {},
   "outputs": [
    {
     "name": "stdout",
     "output_type": "stream",
     "text": [
      "Sum of odd numbers: 325\n",
      "Sum of even numbers: 312\n"
     ]
    }
   ],
   "source": [
    "# Initialize variables to store the sum of odd and even numbers\n",
    "sum_odd = 0\n",
    "sum_even = 0\n",
    "\n",
    "# Loop through numbers from 12 to 37 \n",
    "for number in range(12, 38):\n",
    "    # Check if the number is odd or even\n",
    "    if number % 2 == 0:  # Even number\n",
    "        sum_even += number\n",
    "    else:  # Odd number\n",
    "        sum_odd += number\n",
    "\n",
    "# Display the sum of odd and even numbers\n",
    "print(\"Sum of odd numbers:\", sum_odd)\n",
    "print(\"Sum of even numbers:\", sum_even)\n"
   ]
  },
  {
   "cell_type": "markdown",
   "id": "5f36dbdd",
   "metadata": {},
   "source": [
    "# 6 Write a Python program to print the table of any number\n"
   ]
  },
  {
   "cell_type": "code",
   "execution_count": 53,
   "id": "b177dd3a",
   "metadata": {},
   "outputs": [
    {
     "name": "stdout",
     "output_type": "stream",
     "text": [
      "Enter a number: 8\n",
      "Table of 8:\n",
      "8 x 1 = 8\n",
      "8 x 2 = 16\n",
      "8 x 3 = 24\n",
      "8 x 4 = 32\n",
      "8 x 5 = 40\n",
      "8 x 6 = 48\n",
      "8 x 7 = 56\n",
      "8 x 8 = 64\n",
      "8 x 9 = 72\n",
      "8 x 10 = 80\n"
     ]
    }
   ],
   "source": [
    "# Get the number for which you want to print the table\n",
    "number = int(input(\"Enter a number: \"))\n",
    "\n",
    "# Print the table of the given number\n",
    "print(f\"Table of {number}:\")\n",
    "\n",
    "for i in range(1, 11):\n",
    "    result = number * i\n",
    "    print(f\"{number} x {i} = {result}\")\n"
   ]
  },
  {
   "cell_type": "markdown",
   "id": "cb469f6f",
   "metadata": {},
   "source": [
    "# 7.Write a Python Program to sum the first 10 Prime Numbers"
   ]
  },
  {
   "cell_type": "code",
   "execution_count": 54,
   "id": "cd53d78e",
   "metadata": {},
   "outputs": [
    {
     "name": "stdout",
     "output_type": "stream",
     "text": [
      "The sum of the first 10 prime numbers is: 129\n"
     ]
    }
   ],
   "source": [
    "def is_prime(n):\n",
    "    if n <= 1:\n",
    "        return False\n",
    "    elif n <= 3:\n",
    "        return True\n",
    "    elif n % 2 == 0 or n % 3 == 0:\n",
    "        return False\n",
    "    i = 5\n",
    "    while i * i <= n:\n",
    "        if n % i == 0 or n % (i + 2) == 0:\n",
    "            return False\n",
    "        i += 6\n",
    "    return True\n",
    "\n",
    "def sum_first_10_primes():\n",
    "    prime_count = 0\n",
    "    current_number = 2\n",
    "    prime_sum = 0\n",
    "\n",
    "    while prime_count < 10:\n",
    "        if is_prime(current_number):\n",
    "            prime_sum += current_number\n",
    "            prime_count += 1\n",
    "        current_number += 1\n",
    "\n",
    "    return prime_sum\n",
    "\n",
    "result = sum_first_10_primes()\n",
    "print(\"The sum of the first 10 prime numbers is:\", result)\n"
   ]
  },
  {
   "cell_type": "markdown",
   "id": "394b7fd4",
   "metadata": {},
   "source": [
    "# 8.Write a python Program to implement arithmetic operations using nested if statement"
   ]
  },
  {
   "cell_type": "code",
   "execution_count": 55,
   "id": "243c72a1",
   "metadata": {},
   "outputs": [
    {
     "name": "stdout",
     "output_type": "stream",
     "text": [
      "Enter the first number: 78.88\n",
      "Enter the second number: 89.99\n",
      "Enter the operation (+, -, *, /): /\n",
      "Result: 0.876541837981998\n"
     ]
    }
   ],
   "source": [
    "# Input two numbers and the operation choice\n",
    "num1 = float(input(\"Enter the first number: \"))\n",
    "num2 = float(input(\"Enter the second number: \"))\n",
    "operation = input(\"Enter the operation (+, -, *, /): \")\n",
    "\n",
    "# Perform the arithmetic operation based on user's choice\n",
    "if operation == '+':\n",
    "    result = num1 + num2\n",
    "elif operation == '-':\n",
    "    result = num1 - num2\n",
    "elif operation == '*':\n",
    "    result = num1 * num2\n",
    "elif operation == '/':\n",
    "    if num2 == 0:\n",
    "        result = \"Division by zero is not allowed\"\n",
    "    else:\n",
    "        result = num1 / num2\n",
    "else:\n",
    "    result = \"Invalid operation\"\n",
    "\n",
    "# Display the result\n",
    "print(\"Result:\", result)\n"
   ]
  },
  {
   "cell_type": "markdown",
   "id": "c6eb3e09",
   "metadata": {},
   "source": [
    "# 9.Write a python program to take the temperature in celcius and convert it to a fahrenheit\n"
   ]
  },
  {
   "cell_type": "code",
   "execution_count": 56,
   "id": "08473126",
   "metadata": {},
   "outputs": [
    {
     "name": "stdout",
     "output_type": "stream",
     "text": [
      "Enter temperature in Celsius: 98\n",
      "98.0 degrees Celsius is equal to 208.4 degrees Fahrenheit.\n"
     ]
    }
   ],
   "source": [
    "# Input temperature in Celsius\n",
    "celsius = float(input(\"Enter temperature in Celsius: \"))\n",
    "\n",
    "# Convert Celsius to Fahrenheit by using the formula\n",
    "fahrenheit = (celsius * 9/5) + 32\n",
    "\n",
    "# Display the result\n",
    "print(f\"{celsius} degrees Celsius is equal to {fahrenheit} degrees Fahrenheit.\")\n"
   ]
  },
  {
   "cell_type": "markdown",
   "id": "ce331052",
   "metadata": {},
   "source": [
    "# 10.Write a python program to find a maximum and minimum number in a list without using an in built function"
   ]
  },
  {
   "cell_type": "code",
   "execution_count": 58,
   "id": "ce40c59a",
   "metadata": {},
   "outputs": [
    {
     "name": "stdout",
     "output_type": "stream",
     "text": [
      "Maximum number: 9\n",
      "Minimum number: -1\n"
     ]
    }
   ],
   "source": [
    "# Function to find the maximum and minimum numbers in a list\n",
    "def find_max_min(numbers):\n",
    "    # Check if the list is empty\n",
    "    if not numbers:\n",
    "        return None, None\n",
    "\n",
    "    # Initialize variables to store the maximum and minimum values\n",
    "    max_num = numbers[0]\n",
    "    min_num = numbers[0]\n",
    "\n",
    "    # Iterate through the list to find the maximum and minimum\n",
    "    for num in numbers:\n",
    "        if num > max_num:\n",
    "            max_num = num\n",
    "        elif num < min_num:\n",
    "            min_num = num\n",
    "\n",
    "    return max_num, min_num\n",
    "\n",
    "# Example usage\n",
    "numbers = [9,7,8,6,5,-1,8,0]\n",
    "max_value, min_value = find_max_min(numbers)\n",
    "\n",
    "if max_value is not None and min_value is not None:\n",
    "    print(\"Maximum number:\", max_value)\n",
    "    print(\"Minimum number:\", min_value)\n",
    "else:\n",
    "    print(\"The list is empty.\")\n"
   ]
  },
  {
   "cell_type": "markdown",
   "id": "4fb42e20",
   "metadata": {},
   "source": [
    "# 11 Write a python program to print out the number of seconds in 30-day month 30 days,24 hours in a day, 60 minutes per day, 60 seconds in a minute"
   ]
  },
  {
   "cell_type": "code",
   "execution_count": 59,
   "id": "770aecda",
   "metadata": {},
   "outputs": [
    {
     "name": "stdout",
     "output_type": "stream",
     "text": [
      "Number of seconds in a 30-day month: 2592000\n"
     ]
    }
   ],
   "source": [
    "# Constants\n",
    "days_in_month = 30\n",
    "hours_in_day = 24\n",
    "minutes_in_hour = 60\n",
    "seconds_in_minute = 60\n",
    "\n",
    "# Calculate the number of seconds in a 30-day month\n",
    "seconds_in_month = days_in_month * hours_in_day * minutes_in_hour * seconds_in_minute\n",
    "\n",
    "# Print the result\n",
    "print(\"Number of seconds in a 30-day month:\", seconds_in_month)\n"
   ]
  },
  {
   "cell_type": "code",
   "execution_count": null,
   "id": "835026e9",
   "metadata": {},
   "outputs": [],
   "source": [
    "12 Write a python program to print out number of seconds in a year"
   ]
  },
  {
   "cell_type": "code",
   "execution_count": 60,
   "id": "58a0a7d4",
   "metadata": {},
   "outputs": [
    {
     "name": "stdout",
     "output_type": "stream",
     "text": [
      "Number of seconds in a year: 31557600.0\n"
     ]
    }
   ],
   "source": [
    "# Constants\n",
    "days_in_year = 365.25  # Accounting for leap years\n",
    "hours_in_day = 24\n",
    "minutes_in_hour = 60\n",
    "seconds_in_minute = 60\n",
    "\n",
    "# Calculate the number of seconds in a year\n",
    "seconds_in_year = days_in_year * hours_in_day * minutes_in_hour * seconds_in_minute\n",
    "\n",
    "# Print the result\n",
    "print(\"Number of seconds in a year:\", seconds_in_year)\n"
   ]
  },
  {
   "cell_type": "markdown",
   "id": "a6542207",
   "metadata": {},
   "source": [
    "# 13.A high speed train can travel at an avaerage speed of 150 mph, how long will it take a train travelling at this speed to travel from London to Glasgow which is 414 miles away"
   ]
  },
  {
   "cell_type": "code",
   "execution_count": 61,
   "id": "a1e28d56",
   "metadata": {},
   "outputs": [
    {
     "name": "stdout",
     "output_type": "stream",
     "text": [
      "It will take the train 2.76 hours to travel from London to Glasgow at an average speed of 150 mph.\n"
     ]
    }
   ],
   "source": [
    "# Constants\n",
    "average_speed = 150  # mph\n",
    "distance_to_glasgow = 414  # miles\n",
    "\n",
    "# Calculate time\n",
    "time_hours = distance_to_glasgow / average_speed\n",
    "\n",
    "# Print the result\n",
    "print(f\"It will take the train {time_hours} hours to travel from London to Glasgow at an average speed of {average_speed} mph.\")\n"
   ]
  },
  {
   "cell_type": "markdown",
   "id": "b2b999dd",
   "metadata": {},
   "source": [
    "# 14.Write a Python Program that defines a variable called days_in_each_school_year and assign 192 to the varaiable.The Program should then print out the total hours that you spend in school from year 7 to year 11.If each day you spend 6 hours in school days_in_each_school_year = 192"
   ]
  },
  {
   "cell_type": "code",
   "execution_count": 62,
   "id": "b0a88988",
   "metadata": {},
   "outputs": [
    {
     "name": "stdout",
     "output_type": "stream",
     "text": [
      "Total hours spent in school from year 7 to year 11: 5760 hours\n"
     ]
    }
   ],
   "source": [
    "# Constants\n",
    "days_in_each_school_year = 192  # days\n",
    "\n",
    "# Calculate total hours spent in school\n",
    "year_7_to_11 = 5  # Years from 7 to 11\n",
    "total_hours_in_school = year_7_to_11 * days_in_each_school_year * 6  # 6 hours per day\n",
    "\n",
    "# Print the result\n",
    "print(f\"Total hours spent in school from year 7 to year 11: {total_hours_in_school} hours\")\n"
   ]
  },
  {
   "cell_type": "markdown",
   "id": "44df3011",
   "metadata": {},
   "source": [
    "# 15.If the age of Ram, Sam and Khan are input through the keyboard,write a python program to determine the eldest and youngest of the three"
   ]
  },
  {
   "cell_type": "code",
   "execution_count": 63,
   "id": "6f755d72",
   "metadata": {},
   "outputs": [
    {
     "name": "stdout",
     "output_type": "stream",
     "text": [
      "Enter Ram's age: 25\n",
      "Enter Sam's age: 30\n",
      "Enter Khan's age: 98\n",
      "The eldest among Ram, Sam, and Khan is: Khan\n",
      "The youngest among Ram, Sam, and Khan is: Ram\n"
     ]
    }
   ],
   "source": [
    "# Input ages from the user\n",
    "ram_age = int(input(\"Enter Ram's age: \"))\n",
    "sam_age = int(input(\"Enter Sam's age: \"))\n",
    "khan_age = int(input(\"Enter Khan's age: \"))\n",
    "\n",
    "# Determine the eldest and youngest\n",
    "if ram_age >= sam_age and ram_age >= khan_age:\n",
    "    eldest = \"Ram\"\n",
    "elif sam_age >= ram_age and sam_age >= khan_age:\n",
    "    eldest = \"Sam\"\n",
    "else:\n",
    "    eldest = \"Khan\"\n",
    "\n",
    "if ram_age <= sam_age and ram_age <= khan_age:\n",
    "    youngest = \"Ram\"\n",
    "elif sam_age <= ram_age and sam_age <= khan_age:\n",
    "    youngest = \"Sam\"\n",
    "else:\n",
    "    youngest = \"Khan\"\n",
    "\n",
    "# Print the results\n",
    "print(f\"The eldest among Ram, Sam, and Khan is: {eldest}\")\n",
    "print(f\"The youngest among Ram, Sam, and Khan is: {youngest}\")\n"
   ]
  },
  {
   "cell_type": "markdown",
   "id": "ae687e90",
   "metadata": {},
   "source": [
    "# 16.Write a python program to rotate a list by right n times with and without slicing technique"
   ]
  },
  {
   "cell_type": "code",
   "execution_count": 64,
   "id": "0af1bd3b",
   "metadata": {},
   "outputs": [
    {
     "name": "stdout",
     "output_type": "stream",
     "text": [
      "[4, 5, 1, 2, 3]\n"
     ]
    }
   ],
   "source": [
    "#Without Slicing\n",
    "def rotate_list_right_without_slicing(lst, n):\n",
    "    for _ in range(n):\n",
    "        last_element = lst.pop()\n",
    "        lst.insert(0, last_element)\n",
    "\n",
    "# Example usage:\n",
    "my_list = [1, 2, 3, 4, 5]\n",
    "rotate_list_right_without_slicing(my_list, 2)\n",
    "print(my_list) \n"
   ]
  },
  {
   "cell_type": "code",
   "execution_count": 66,
   "id": "86444f57",
   "metadata": {},
   "outputs": [
    {
     "name": "stdout",
     "output_type": "stream",
     "text": [
      "[4, 5, 1, 2, 3]\n"
     ]
    }
   ],
   "source": [
    "#With Slicing\n",
    "def rotate_list_right_with_slicing(lst, n):\n",
    "    n = n % len(lst)  # Ensure n is within the list length\n",
    "    rotated_list = lst[-n:] + lst[:-n]\n",
    "    return rotated_list\n",
    "\n",
    "# Example usage:\n",
    "my_list = [1, 2, 3, 4, 5]\n",
    "rotated_list = rotate_list_right_with_slicing(my_list, 2)\n",
    "print(rotated_list)  "
   ]
  },
  {
   "cell_type": "markdown",
   "id": "66c2019c",
   "metadata": {},
   "source": [
    "# 17 Python Program to print the patterns given below\n"
   ]
  },
  {
   "cell_type": "code",
   "execution_count": 67,
   "id": "44f20b96",
   "metadata": {},
   "outputs": [
    {
     "name": "stdout",
     "output_type": "stream",
     "text": [
      "Enter the number of rows: 7\n",
      "1 \n",
      "1 2 \n",
      "1 2 3 \n",
      "1 2 3 4 \n",
      "1 2 3 4 5 \n",
      "1 2 3 4 5 6 \n",
      "1 2 3 4 5 6 7 \n"
     ]
    }
   ],
   "source": [
    "# Function to print a right triangle pattern with numbers\n",
    "def print_right_triangle_pattern(n):\n",
    "    for i in range(1, n + 1):\n",
    "        for j in range(1, i + 1):\n",
    "            print(j, end=\" \")\n",
    "        print()  # Move to the next line after each row\n",
    "\n",
    "# Input the number of rows for the pattern\n",
    "n = int(input(\"Enter the number of rows: \"))\n",
    "\n",
    "# Call the function to print the right triangle pattern\n",
    "print_right_triangle_pattern(n)\n"
   ]
  },
  {
   "cell_type": "code",
   "execution_count": 69,
   "id": "a6ae09fa",
   "metadata": {},
   "outputs": [
    {
     "name": "stdout",
     "output_type": "stream",
     "text": [
      "Enter the number of rows: 7\n",
      "* \n",
      "* * \n",
      "* * * \n",
      "* * * * \n",
      "* * * * * \n",
      "* * * * * * \n",
      "* * * * * * * \n"
     ]
    }
   ],
   "source": [
    "# Function to print a right triangle pattern with Asterisks\n",
    "def print_right_triangle_pattern(n):\n",
    "    for i in range(1, n + 1):\n",
    "        for j in range(1, i + 1):\n",
    "            print(\"*\", end=\" \")\n",
    "        print()  # Move to the next line after each row\n",
    "\n",
    "# Input the number of rows for the pattern\n",
    "n = int(input(\"Enter the number of rows: \"))\n",
    "\n",
    "# Call the function to print the right triangle pattern\n",
    "print_right_triangle_pattern(n)\n"
   ]
  },
  {
   "cell_type": "code",
   "execution_count": 70,
   "id": "8863b65b",
   "metadata": {},
   "outputs": [
    {
     "name": "stdout",
     "output_type": "stream",
     "text": [
      "p \n",
      "p y \n",
      "p y t \n",
      "p y t h \n",
      "p y t h o \n",
      "p y t h o n \n"
     ]
    }
   ],
   "source": [
    "# Function to print a right triangle pattern with character\n",
    "text = \"python\"\n",
    "\n",
    "for i in range(len(text)):\n",
    "    for j in range(i + 1):\n",
    "        print(text[j], end=\" \")\n",
    "    print()\n",
    "\n"
   ]
  },
  {
   "cell_type": "code",
   "execution_count": null,
   "id": "9e5c19d7",
   "metadata": {},
   "outputs": [],
   "source": []
  }
 ],
 "metadata": {
  "kernelspec": {
   "display_name": "Python 3 (ipykernel)",
   "language": "python",
   "name": "python3"
  },
  "language_info": {
   "codemirror_mode": {
    "name": "ipython",
    "version": 3
   },
   "file_extension": ".py",
   "mimetype": "text/x-python",
   "name": "python",
   "nbconvert_exporter": "python",
   "pygments_lexer": "ipython3",
   "version": "3.11.4"
  }
 },
 "nbformat": 4,
 "nbformat_minor": 5
}
