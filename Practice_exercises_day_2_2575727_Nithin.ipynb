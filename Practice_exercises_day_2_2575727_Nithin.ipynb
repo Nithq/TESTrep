{
 "cells": [
  {
   "cell_type": "markdown",
   "id": "fcb60164",
   "metadata": {},
   "source": [
    "# 1.Write a python function to list even and odd numbers in a list"
   ]
  },
  {
   "cell_type": "code",
   "execution_count": 1,
   "id": "2cbece55",
   "metadata": {},
   "outputs": [
    {
     "name": "stdout",
     "output_type": "stream",
     "text": [
      "Even numbers: [2, 4, 6, 8]\n",
      "Odd numbers: [1, 3, 5, 7, 9]\n"
     ]
    }
   ],
   "source": [
    "def separate_even_odd(numbers):\n",
    "    even_numbers = []\n",
    "    odd_numbers = []\n",
    "\n",
    "    for num in numbers:\n",
    "        if num % 2 == 0:\n",
    "            even_numbers.append(num)\n",
    "        else:\n",
    "            odd_numbers.append(num)\n",
    "\n",
    "    return even_numbers, odd_numbers\n",
    "\n",
    "# Example usage:\n",
    "numbers_list = [1, 2, 3, 4, 5, 6, 7, 8, 9]\n",
    "even, odd = separate_even_odd(numbers_list)\n",
    "print(\"Even numbers:\", even)\n",
    "print(\"Odd numbers:\", odd)"
   ]
  },
  {
   "cell_type": "markdown",
   "id": "06adaa0c",
   "metadata": {},
   "source": [
    "# 2. Write and run a Python program that asks the user to enter 8 integers (one at a time), and then prints out how many of those integers were even numbers"
   ]
  },
  {
   "cell_type": "code",
   "execution_count": 2,
   "id": "7b04f9a3",
   "metadata": {},
   "outputs": [
    {
     "name": "stdout",
     "output_type": "stream",
     "text": [
      "Enter digit 1: 19\n",
      "Enter digit 2: 6\n",
      "Enter digit 3: 9\n",
      "Enter digit 4: 20\n",
      "Enter digit 5: 13\n",
      "Enter digit 6: 7\n",
      "Enter digit 7: 6\n",
      "Enter digit 8: 1\n",
      "Number of even digits: 3\n"
     ]
    }
   ],
   "source": [
    "# Initialize a variable to count even numbers\n",
    "even_count = 0\n",
    "\n",
    "# Loop to get 8 digits from the user\n",
    "for i in range(8):\n",
    "    try:\n",
    "        # Prompt the user to enter a digit\n",
    "        digit = int(input(f\"Enter digit {i+1}: \"))\n",
    "\n",
    "        # Check if the entered digit is even\n",
    "        if digit % 2 == 0:\n",
    "            even_count += 1\n",
    "    except ValueError:\n",
    "        print(\"Invalid input. Please enter a valid digit.\")\n",
    "\n",
    "# Print the count of even numbers\n",
    "print(\"Number of even digits:\", even_count)"
   ]
  },
  {
   "cell_type": "markdown",
   "id": "dda38f7d",
   "metadata": {},
   "source": [
    "# 3.Write a python program where you take any positive integer n , if n is even divide it by 2 to get n/2. If n is odd multiply it by 3 and add by 1 to obtain 3n+1.Repeat the process until you reach 1"
   ]
  },
  {
   "cell_type": "code",
   "execution_count": 3,
   "id": "7f23347a",
   "metadata": {},
   "outputs": [
    {
     "name": "stdout",
     "output_type": "stream",
     "text": [
      "Enter a positive integer: 4\n",
      "Collatz sequence:\n",
      "4 2 1\n"
     ]
    }
   ],
   "source": [
    "def collatz_sequence(n):\n",
    "    while n != 1:\n",
    "        print(n, end=' ')\n",
    "        if n % 2 == 0:\n",
    "            n = n // 2  # Divide n by 2 for even numbers\n",
    "        else:\n",
    "            n = 3 * n + 1  # Multiply n by 3 and add 1 for odd numbers\n",
    "    print(1)  # Print the final 1\n",
    "\n",
    "try:\n",
    "    n = int(input(\"Enter a positive integer: \"))\n",
    "    if n <= 0:\n",
    "        print(\"Please enter a positive integer.\")\n",
    "    else:\n",
    "        print(\"Collatz sequence:\")\n",
    "        collatz_sequence(n)\n",
    "except ValueError:\n",
    "    print(\"Invalid input. Please enter a positive integer.\")"
   ]
  },
  {
   "cell_type": "markdown",
   "id": "03fd0b32",
   "metadata": {},
   "source": [
    "# 4.Write a python program to compute  the sum of all the multiples of 3 or 5 below 500"
   ]
  },
  {
   "cell_type": "code",
   "execution_count": 4,
   "id": "22ecc0ac",
   "metadata": {},
   "outputs": [
    {
     "name": "stdout",
     "output_type": "stream",
     "text": [
      "The sum of multiples of 3 or 5 below 500 is: 57918\n"
     ]
    }
   ],
   "source": [
    "# Initialize the sum to zero\n",
    "total_sum = 0\n",
    "\n",
    "# Iterate through numbers from 1 to 499 (below 500)\n",
    "for num in range(1, 500):\n",
    "    # Check if the number is a multiple of 3 or 5\n",
    "    if num % 3 == 0 or num % 5 == 0:\n",
    "        total_sum += num\n",
    "\n",
    "# Print the sum of multiples of 3 or 5 below 500\n",
    "print(\"The sum of multiples of 3 or 5 below 500 is:\", total_sum)"
   ]
  },
  {
   "cell_type": "markdown",
   "id": "83d13a2c",
   "metadata": {},
   "source": [
    "# 5.To write a python program to find first 'n' prime numbers from a list of given numbers"
   ]
  },
  {
   "cell_type": "code",
   "execution_count": 5,
   "id": "6b7b94d9",
   "metadata": {},
   "outputs": [
    {
     "name": "stdout",
     "output_type": "stream",
     "text": [
      "Enter the value of 'n': 7\n",
      "The first 7 prime numbers from the given list are:\n",
      "[2, 3, 5, 7, 11, 13, 17]\n"
     ]
    }
   ],
   "source": [
    "def is_prime(num):\n",
    "    if num <= 1:\n",
    "        return False\n",
    "    if num <= 3:\n",
    "        return True\n",
    "    if num % 2 == 0 or num % 3 == 0:\n",
    "        return False\n",
    "    i = 5\n",
    "    while i * i <= num:\n",
    "        if num % i == 0 or num % (i + 2) == 0:\n",
    "            return False\n",
    "        i += 6\n",
    "    return True\n",
    "\n",
    "def find_first_n_primes(numbers, n):\n",
    "    prime_numbers = []\n",
    "    for num in numbers:\n",
    "        if is_prime(num):\n",
    "            prime_numbers.append(num)\n",
    "            if len(prime_numbers) == n:\n",
    "                break\n",
    "    return prime_numbers\n",
    "\n",
    "# Example usage:\n",
    "given_numbers = [2, 3, 5, 7, 8, 11, 13, 15, 17, 19]\n",
    "n = int(input(\"Enter the value of 'n': \"))\n",
    "\n",
    "prime_list = find_first_n_primes(given_numbers, n)\n",
    "\n",
    "if prime_list:\n",
    "    print(f\"The first {n} prime numbers from the given list are:\")\n",
    "    print(prime_list)\n",
    "else:\n",
    "    print(\"No prime numbers found.\")"
   ]
  },
  {
   "cell_type": "markdown",
   "id": "d47f814a",
   "metadata": {},
   "source": [
    "# 6.To write a python program to compute matrix multiplication\n"
   ]
  },
  {
   "cell_type": "code",
   "execution_count": 6,
   "id": "a27152f7",
   "metadata": {},
   "outputs": [
    {
     "name": "stdout",
     "output_type": "stream",
     "text": [
      "Matrix A:\n",
      "[1, 2, 3]\n",
      "[4, 5, 6]\n",
      "\n",
      "Matrix B:\n",
      "[7, 8]\n",
      "[9, 10]\n",
      "[11, 12]\n",
      "\n",
      "Resultant Matrix:\n",
      "[58, 64]\n",
      "[139, 154]\n"
     ]
    }
   ],
   "source": [
    "def matrix_multiply(matrix1, matrix2):\n",
    "    result = []\n",
    "\n",
    "    # Check if the matrices can be multiplied\n",
    "    if len(matrix1[0]) != len(matrix2):\n",
    "        print(\"Matrix multiplication is not possible. Number of columns in the first matrix must be equal to the number of rows in the second matrix.\")\n",
    "        return None\n",
    "\n",
    "    # Initialize the result matrix with zeros\n",
    "    for i in range(len(matrix1)):\n",
    "        row = []\n",
    "        for j in range(len(matrix2[0])):\n",
    "            row.append(0)\n",
    "        result.append(row)\n",
    "\n",
    "    # Perform matrix multiplication\n",
    "    for i in range(len(matrix1)):\n",
    "        for j in range(len(matrix2[0])):\n",
    "            for k in range(len(matrix2)):\n",
    "                result[i][j] += matrix1[i][k] * matrix2[k][j]\n",
    "\n",
    "    return result\n",
    "\n",
    "# Example matrices\n",
    "matrix_a = [[1, 2, 3], [4, 5, 6]]\n",
    "matrix_b = [[7, 8], [9, 10], [11, 12]]\n",
    "\n",
    "# Compute matrix multiplication\n",
    "result_matrix = matrix_multiply(matrix_a, matrix_b)\n",
    "\n",
    "# Display the result\n",
    "if result_matrix:\n",
    "    print(\"Matrix A:\")\n",
    "    for row in matrix_a:\n",
    "        print(row)\n",
    "    print(\"\\nMatrix B:\")\n",
    "    for row in matrix_b:\n",
    "        print(row)\n",
    "    print(\"\\nResultant Matrix:\")\n",
    "    for row in result_matrix:\n",
    "        print(row)"
   ]
  },
  {
   "cell_type": "markdown",
   "id": "05db6a86",
   "metadata": {},
   "source": [
    "# 7.Write a python function to count the number of vowels in the string"
   ]
  },
  {
   "cell_type": "code",
   "execution_count": 7,
   "id": "246eb8cd",
   "metadata": {},
   "outputs": [
    {
     "name": "stdout",
     "output_type": "stream",
     "text": [
      "Enter a string: My name is Nithin\n",
      "Number of vowels in the string: 5\n"
     ]
    }
   ],
   "source": [
    "def count_vowels(input_string):\n",
    "    # Define a set of vowels\n",
    "    vowels = set(\"AEIOUaeiou\")\n",
    "    \n",
    "    # Initialize a counter for vowels\n",
    "    vowel_count = 0\n",
    "    \n",
    "    # Iterate through the characters in the input string\n",
    "    for char in input_string:\n",
    "        if char in vowels:\n",
    "            vowel_count += 1\n",
    "    \n",
    "    return vowel_count\n",
    "\n",
    "# Example usage:\n",
    "input_string = input(\"Enter a string: \")\n",
    "vowel_count = count_vowels(input_string)\n",
    "print(\"Number of vowels in the string:\", vowel_count)"
   ]
  },
  {
   "cell_type": "markdown",
   "id": "a5856976",
   "metadata": {},
   "source": [
    "# 8.Write a python function for finding the factorial for a given number using a recursive function\n"
   ]
  },
  {
   "cell_type": "code",
   "execution_count": 8,
   "id": "64675903",
   "metadata": {},
   "outputs": [
    {
     "name": "stdout",
     "output_type": "stream",
     "text": [
      "Enter a non-negative integer: 8\n",
      "The factorial of 8 is 40320\n"
     ]
    }
   ],
   "source": [
    "def factorial_recursive(n):\n",
    "    if n == 0:\n",
    "        return 1\n",
    "    else:\n",
    "        return n * factorial_recursive(n - 1)\n",
    "\n",
    "# Example usage:\n",
    "num = int(input(\"Enter a non-negative integer: \"))\n",
    "\n",
    "if num < 0:\n",
    "    print(\"Factorial is not defined for negative numbers.\")\n",
    "else:\n",
    "    result = factorial_recursive(num)\n",
    "    print(f\"The factorial of {num} is {result}\")"
   ]
  },
  {
   "cell_type": "markdown",
   "id": "83e86e6c",
   "metadata": {},
   "source": [
    "# 9 Write a python function for generating the fibonacci series using the function"
   ]
  },
  {
   "cell_type": "code",
   "execution_count": 9,
   "id": "92c6999a",
   "metadata": {},
   "outputs": [
    {
     "name": "stdout",
     "output_type": "stream",
     "text": [
      "Enter the number of Fibonacci numbers to generate: 89\n",
      "Fibonacci series:\n",
      "[0, 1, 1, 2, 3, 5, 8, 13, 21, 34, 55, 89, 144, 233, 377, 610, 987, 1597, 2584, 4181, 6765, 10946, 17711, 28657, 46368, 75025, 121393, 196418, 317811, 514229, 832040, 1346269, 2178309, 3524578, 5702887, 9227465, 14930352, 24157817, 39088169, 63245986, 102334155, 165580141, 267914296, 433494437, 701408733, 1134903170, 1836311903, 2971215073, 4807526976, 7778742049, 12586269025, 20365011074, 32951280099, 53316291173, 86267571272, 139583862445, 225851433717, 365435296162, 591286729879, 956722026041, 1548008755920, 2504730781961, 4052739537881, 6557470319842, 10610209857723, 17167680177565, 27777890035288, 44945570212853, 72723460248141, 117669030460994, 190392490709135, 308061521170129, 498454011879264, 806515533049393, 1304969544928657, 2111485077978050, 3416454622906707, 5527939700884757, 8944394323791464, 14472334024676221, 23416728348467685, 37889062373143906, 61305790721611591, 99194853094755497, 160500643816367088, 259695496911122585, 420196140727489673, 679891637638612258, 1100087778366101931]\n"
     ]
    }
   ],
   "source": [
    "def fibonacci_recursive(n):\n",
    "    if n <= 0:\n",
    "        return []\n",
    "    elif n == 1:\n",
    "        return [0]\n",
    "    elif n == 2:\n",
    "        return [0, 1]\n",
    "    else:\n",
    "        fib_series = fibonacci_recursive(n - 1)\n",
    "        fib_series.append(fib_series[-1] + fib_series[-2])\n",
    "        return fib_series\n",
    "\n",
    "# Example usage:\n",
    "num = int(input(\"Enter the number of Fibonacci numbers to generate: \"))\n",
    "\n",
    "if num <= 0:\n",
    "    print(\"Please enter a positive integer.\")\n",
    "else:\n",
    "    fibonacci_series = fibonacci_recursive(num)\n",
    "    print(\"Fibonacci series:\")\n",
    "    print(fibonacci_series)"
   ]
  },
  {
   "cell_type": "markdown",
   "id": "3a1a9226",
   "metadata": {},
   "source": [
    "# 10.Python Program to display the given integer in reverse order using the function without an in-built function"
   ]
  },
  {
   "cell_type": "code",
   "execution_count": 10,
   "id": "e2d0325d",
   "metadata": {},
   "outputs": [
    {
     "name": "stdout",
     "output_type": "stream",
     "text": [
      "Enter an integer: 565\n",
      "Reversed integer: 565\n"
     ]
    }
   ],
   "source": [
    "def reverse_integer(num):\n",
    "    # Handle negative numbers by converting to positive temporarily\n",
    "    is_negative = False\n",
    "    if num < 0:\n",
    "        is_negative = True\n",
    "        num = -num\n",
    "\n",
    "    reversed_str = \"\"\n",
    "    while num > 0:\n",
    "        digit = num % 10\n",
    "        reversed_str += str(digit)\n",
    "        num //= 10\n",
    "\n",
    "    # Restore the negative sign if needed\n",
    "    if is_negative:\n",
    "        reversed_str = \"-\" + reversed_str\n",
    "\n",
    "    return int(reversed_str)\n",
    "\n",
    "# Example usage:\n",
    "num = int(input(\"Enter an integer: \"))\n",
    "reversed_num = reverse_integer(num)\n",
    "print(\"Reversed integer:\", reversed_num)"
   ]
  },
  {
   "cell_type": "markdown",
   "id": "4a64a7e6",
   "metadata": {},
   "source": [
    "# 11 Write a python function to display all integers within the range from 200 - 300 whose sum of digits is an even number"
   ]
  },
  {
   "cell_type": "code",
   "execution_count": 11,
   "id": "2348cded",
   "metadata": {},
   "outputs": [
    {
     "name": "stdout",
     "output_type": "stream",
     "text": [
      "Integers in the range 200-300 with an even sum of digits:\n",
      "[200, 202, 204, 206, 208, 211, 213, 215, 217, 219, 220, 222, 224, 226, 228, 231, 233, 235, 237, 239, 240, 242, 244, 246, 248, 251, 253, 255, 257, 259, 260, 262, 264, 266, 268, 271, 273, 275, 277, 279, 280, 282, 284, 286, 288, 291, 293, 295, 297, 299]\n"
     ]
    }
   ],
   "source": [
    "def sum_of_digits_is_even(num):\n",
    "    digit_sum = sum(int(digit) for digit in str(num))\n",
    "    return digit_sum % 2 == 0\n",
    "\n",
    "def find_integers_with_even_digit_sum(start, end):\n",
    "    result = []\n",
    "    for num in range(start, end + 1):\n",
    "        if sum_of_digits_is_even(num):\n",
    "            result.append(num)\n",
    "    return result\n",
    "\n",
    "# Example usage:\n",
    "start = 200\n",
    "end = 300\n",
    "\n",
    "even_digit_sum_numbers = find_integers_with_even_digit_sum(start, end)\n",
    "print(\"Integers in the range {}-{} with an even sum of digits:\".format(start, end))\n",
    "print(even_digit_sum_numbers)"
   ]
  },
  {
   "cell_type": "markdown",
   "id": "0d6988d0",
   "metadata": {},
   "source": [
    "# 12.Write a python function to find the number of digits and sum of digits for a given integer"
   ]
  },
  {
   "cell_type": "code",
   "execution_count": 12,
   "id": "b48c948e",
   "metadata": {},
   "outputs": [
    {
     "name": "stdout",
     "output_type": "stream",
     "text": [
      "Enter an integer: 234\n",
      "Number of digits: 3\n",
      "Sum of digits: 9\n"
     ]
    }
   ],
   "source": [
    "def find_digits_and_sum(num):\n",
    "    # Initialize variables to count digits and sum of digits\n",
    "    num_of_digits = 0\n",
    "    digit_sum = 0\n",
    "    \n",
    "    # Take the absolute value of the number in case it's negative\n",
    "    num = abs(num)\n",
    "    \n",
    "    while num > 0:\n",
    "        digit = num % 10  # Extract the last digit\n",
    "        digit_sum += digit  # Add the digit to the sum\n",
    "        num //= 10  # Remove the last digit\n",
    "        num_of_digits += 1  # Increment the digit count\n",
    "    \n",
    "    return num_of_digits, digit_sum\n",
    "\n",
    "# Example usage:\n",
    "num = int(input(\"Enter an integer: \"))\n",
    "digits, sum_of_digits = find_digits_and_sum(num)\n",
    "print(\"Number of digits:\", digits)\n",
    "print(\"Sum of digits:\", sum_of_digits)"
   ]
  },
  {
   "cell_type": "markdown",
   "id": "74cd1c04",
   "metadata": {},
   "source": [
    "# 13 Write function called is_sorted that takes a list as a parameter and returns True if the list is sorted in ascending order anf False otherwise and has duplicates that takes a list and returns True if there is any element that appears more than once.It should not modify the original list"
   ]
  },
  {
   "cell_type": "code",
   "execution_count": 2,
   "id": "7f8fe856",
   "metadata": {},
   "outputs": [
    {
     "name": "stdout",
     "output_type": "stream",
     "text": [
      "False\n",
      "False\n",
      "True\n",
      "False\n"
     ]
    }
   ],
   "source": [
    "def is_sorted(arr):\n",
    "    # Check if the list is empty or has only one element (considered sorted)\n",
    "    if len(arr) <= 1:\n",
    "        return True\n",
    "    \n",
    "    # Iterate through the list and compare each element with the next one\n",
    "    for i in range(len(arr) - 1):\n",
    "        if arr[i] > arr[i + 1]:\n",
    "            return False\n",
    "    return True\n",
    "\n",
    "def has_duplicates(arr):\n",
    "    # Create a set to store unique elements encountered\n",
    "    unique_elements = set()\n",
    "    \n",
    "    # Iterate through the list and check for duplicates\n",
    "    for element in arr:\n",
    "        if element in unique_elements:\n",
    "            return True\n",
    "        unique_elements.add(element)\n",
    "    \n",
    "    return False\n",
    "\n",
    "# Example usage:\n",
    "my_list = [5, 6, 9, 1, 3]\n",
    "print(is_sorted(my_list)) \n",
    "\n",
    "my_list = [1, 3, 2, 4, 5]\n",
    "print(is_sorted(my_list)) \n",
    "\n",
    "my_list = [1, 2, 2, 3, 4]\n",
    "print(has_duplicates(my_list))  \n",
    "\n",
    "my_list = [1, 2, 3, 4, 5]\n",
    "print(has_duplicates(my_list))  \n"
   ]
  },
  {
   "cell_type": "markdown",
   "id": "b1a49d7b",
   "metadata": {},
   "source": [
    "# 14.Write functions called nested_sum that takes a list of integers and adds up the elements from all the nested lists and cumsum that takes a list of numbers and returns the cumulative sum; that is, a new list where the ith element is the sum of the first i+1 elements from the original list "
   ]
  },
  {
   "cell_type": "code",
   "execution_count": 3,
   "id": "750ad9a9",
   "metadata": {},
   "outputs": [
    {
     "name": "stdout",
     "output_type": "stream",
     "text": [
      "Nested Sum: 21\n",
      "Cumulative Sum: [1, 3, 6, 10, 15]\n"
     ]
    }
   ],
   "source": [
    "def nested_sum(lst):\n",
    "    total = 0\n",
    "    for sublist in lst:\n",
    "        if isinstance(sublist, list):\n",
    "            total += nested_sum(sublist)\n",
    "        else:\n",
    "            total += sublist\n",
    "    return total\n",
    "\n",
    "def cumsum(numbers):\n",
    "    cumulative_sum = []\n",
    "    running_sum = 0\n",
    "    for num in numbers:\n",
    "        running_sum += num\n",
    "        cumulative_sum.append(running_sum)\n",
    "    return cumulative_sum\n",
    "\n",
    "# Example usage:\n",
    "nested_list = [1, [2, 3], [4, [5, 6]]]\n",
    "result_nested_sum = nested_sum(nested_list)\n",
    "print(\"Nested Sum:\", result_nested_sum)  # Output: 21 (1 + 2 + 3 + 4 + 5 + 6)\n",
    "\n",
    "numbers_list = [1, 2, 3, 4, 5]\n",
    "result_cumsum = cumsum(numbers_list)\n",
    "print(\"Cumulative Sum:\", result_cumsum)  # Output: [1, 3, 6, 10, 15]\n"
   ]
  },
  {
   "cell_type": "code",
   "execution_count": null,
   "id": "a7d6daee",
   "metadata": {},
   "outputs": [],
   "source": []
  }
 ],
 "metadata": {
  "kernelspec": {
   "display_name": "Python 3 (ipykernel)",
   "language": "python",
   "name": "python3"
  },
  "language_info": {
   "codemirror_mode": {
    "name": "ipython",
    "version": 3
   },
   "file_extension": ".py",
   "mimetype": "text/x-python",
   "name": "python",
   "nbconvert_exporter": "python",
   "pygments_lexer": "ipython3",
   "version": "3.11.4"
  }
 },
 "nbformat": 4,
 "nbformat_minor": 5
}
