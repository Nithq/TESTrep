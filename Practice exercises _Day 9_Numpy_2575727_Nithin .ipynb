{
 "cells": [
  {
   "cell_type": "markdown",
   "id": "280a39e8",
   "metadata": {},
   "source": [
    "# Create a 3x3x3 array with random values"
   ]
  },
  {
   "cell_type": "code",
   "execution_count": 1,
   "id": "370f2f41",
   "metadata": {},
   "outputs": [
    {
     "name": "stdout",
     "output_type": "stream",
     "text": [
      "[[[0.45413252 0.79013283 0.54492051]\n",
      "  [0.81491544 0.7732642  0.54984884]\n",
      "  [0.45378073 0.53188678 0.08456485]]\n",
      "\n",
      " [[0.56877543 0.49017502 0.16823753]\n",
      "  [0.28902934 0.88778307 0.83409058]\n",
      "  [0.64395173 0.71275808 0.74351657]]\n",
      "\n",
      " [[0.70381967 0.30518202 0.60129911]\n",
      "  [0.39232897 0.11324953 0.02349135]\n",
      "  [0.24429706 0.87632254 0.914311  ]]]\n"
     ]
    }
   ],
   "source": [
    "import numpy as np\n",
    "\n",
    "# Create a 3x3x3 array with random values between 0 and 1\n",
    "random_array = np.random.rand(3, 3, 3)\n",
    "\n",
    "print(random_array)\n"
   ]
  },
  {
   "cell_type": "markdown",
   "id": "65b74de2",
   "metadata": {},
   "source": [
    "# Create a 5x5 matrix with values 1,2,3,4 just below the diagonal"
   ]
  },
  {
   "cell_type": "code",
   "execution_count": 7,
   "id": "1124adf5",
   "metadata": {},
   "outputs": [
    {
     "name": "stdout",
     "output_type": "stream",
     "text": [
      "[[0 0 0 0 0]\n",
      " [1 0 0 0 0]\n",
      " [0 2 0 0 0]\n",
      " [0 0 3 0 0]\n",
      " [0 0 0 4 0]]\n"
     ]
    }
   ],
   "source": [
    "# Create a 5x5 matrix filled with zeros\n",
    "matrix = np.zeros((5, 5), dtype=int)\n",
    "\n",
    "# Set values 1, 2, 3, and 4 just below the diagonal\n",
    "for i in range(1, 5):\n",
    "    matrix[i, i - 1] = i\n",
    "\n",
    "print(matrix)"
   ]
  },
  {
   "cell_type": "markdown",
   "id": "38efe261",
   "metadata": {},
   "source": [
    "# create a 8x8 matrix and fill it with a checkerboard pattern"
   ]
  },
  {
   "cell_type": "code",
   "execution_count": 8,
   "id": "58968e38",
   "metadata": {},
   "outputs": [
    {
     "name": "stdout",
     "output_type": "stream",
     "text": [
      "[[0 1 0 1 0 1 0 1]\n",
      " [1 0 1 0 1 0 1 0]\n",
      " [0 1 0 1 0 1 0 1]\n",
      " [1 0 1 0 1 0 1 0]\n",
      " [0 1 0 1 0 1 0 1]\n",
      " [1 0 1 0 1 0 1 0]\n",
      " [0 1 0 1 0 1 0 1]\n",
      " [1 0 1 0 1 0 1 0]]\n"
     ]
    }
   ],
   "source": [
    "# Create an 8x8 matrix filled with zeros\n",
    "matrix= np.zeros((8,8), dtype = int)\n",
    "# Fill the checkerboard pattern\n",
    "matrix[1::2, ::2] = 1\n",
    "matrix[::2, 1::2] = 1\n",
    "\n",
    "print(matrix)\n"
   ]
  },
  {
   "cell_type": "markdown",
   "id": "50dd04a6",
   "metadata": {},
   "source": [
    "# Normalize a 5x5 random matrix"
   ]
  },
  {
   "cell_type": "code",
   "execution_count": 9,
   "id": "3f7f60e4",
   "metadata": {},
   "outputs": [
    {
     "name": "stdout",
     "output_type": "stream",
     "text": [
      "Original Matrix: \n",
      "[[0.88578597 0.20549411 0.49385462 0.82370681 0.64300617]\n",
      " [0.02331642 0.12224587 0.82267938 0.03497783 0.87028971]\n",
      " [0.0393729  0.81194269 0.7499179  0.36847891 0.23754086]\n",
      " [0.00711529 0.65519009 0.37149766 0.80545699 0.23699052]\n",
      " [0.79460463 0.89524405 0.14256385 0.030724   0.02193523]]\n",
      "\n",
      "Normalized Matrix: \n",
      "[[ 1.31313535 -0.70780886  0.14882419  1.12871667  0.59190897]\n",
      " [-1.24900446 -0.95511457  1.12566447 -1.21436189  1.26710058]\n",
      " [-1.20130543  1.09376899  0.90951184 -0.22362963 -0.61260753]\n",
      " [-1.29713319  0.62810377 -0.21466184  1.07450191 -0.61424242]\n",
      " [ 1.04226279  1.34123248 -0.89475592 -1.22699873 -1.25310756]]\n"
     ]
    }
   ],
   "source": [
    "# Create a 5x5 random matrix\n",
    "matrix = np.random.rand(5, 5)\n",
    "\n",
    "# Calculate the mean and standard deviation of the matrix\n",
    "mean = np.mean(matrix)\n",
    "std = np.std(matrix)\n",
    "\n",
    "# Normalize the matrix\n",
    "normalized_matrix = (matrix - mean) / std\n",
    "\n",
    "print(\"Original Matrix: \")\n",
    "print(matrix)\n",
    "print(\"\\nNormalized Matrix: \")\n",
    "print(normalized_matrix)\n"
   ]
  },
  {
   "cell_type": "markdown",
   "id": "689cda6d",
   "metadata": {},
   "source": [
    "# How to find common values between  two arrays"
   ]
  },
  {
   "cell_type": "code",
   "execution_count": 11,
   "id": "21fa4c54",
   "metadata": {},
   "outputs": [
    {
     "name": "stdout",
     "output_type": "stream",
     "text": [
      "[4 5]\n"
     ]
    }
   ],
   "source": [
    "# Create two NumPy arrays\n",
    "array1 = np.array([1, 2, 3, 4, 5])\n",
    "array2 = np.array([4, 5, 6, 7, 9])\n",
    "\n",
    "# Find common values\n",
    "common_values = np.intersect1d(array1, array2)\n",
    "\n",
    "print(common_values)\n"
   ]
  },
  {
   "cell_type": "markdown",
   "id": "c8d9604f",
   "metadata": {},
   "source": [
    "# How to get the dates of yesterday today and tomorrow"
   ]
  },
  {
   "cell_type": "code",
   "execution_count": 13,
   "id": "98def2f6",
   "metadata": {},
   "outputs": [
    {
     "name": "stdout",
     "output_type": "stream",
     "text": [
      "Yesterday: 2023-09-19\n",
      "Today: 2023-09-21\n",
      "Tomorrow: 2023-09-23\n"
     ]
    }
   ],
   "source": [
    "import datetime\n",
    "\n",
    "# Get today's date\n",
    "today = datetime.date.today()\n",
    "\n",
    "# Calculate yesterday and tomorrow\n",
    "yesterday = today - datetime.timedelta(days=1)\n",
    "tomorrow = today + datetime.timedelta(days=1)\n",
    "\n",
    "print(\"Yesterday:\", yesterday)\n",
    "print(\"Today:\", today)\n",
    "print(\"Tomorrow:\", tomorrow)\n"
   ]
  },
  {
   "cell_type": "markdown",
   "id": "71723e73",
   "metadata": {},
   "source": [
    "# Consider 2 random array A and B, check they are equal"
   ]
  },
  {
   "cell_type": "code",
   "execution_count": 14,
   "id": "4d427121",
   "metadata": {},
   "outputs": [
    {
     "name": "stdout",
     "output_type": "stream",
     "text": [
      "Arrays A and B are not equal.\n"
     ]
    }
   ],
   "source": [
    "# Generate two random arrays A and B\n",
    "A = np.random.rand(3, 3)\n",
    "B = np.random.rand(3, 3)\n",
    "\n",
    "# Check if the arrays are equal\n",
    "are_equal = np.array_equal(A, B)\n",
    "\n",
    "if are_equal:\n",
    "    print(\"Arrays A and B are equal.\")\n",
    "else:\n",
    "    print(\"Arrays A and B are not equal.\")\n"
   ]
  },
  {
   "cell_type": "code",
   "execution_count": 15,
   "id": "5fea76e9",
   "metadata": {},
   "outputs": [
    {
     "data": {
      "text/plain": [
       "array([[0.88555865, 0.03896129, 0.50613329],\n",
       "       [0.66253385, 0.96405417, 0.51915114],\n",
       "       [0.71846808, 0.91286661, 0.59976592]])"
      ]
     },
     "execution_count": 15,
     "metadata": {},
     "output_type": "execute_result"
    }
   ],
   "source": [
    "A"
   ]
  },
  {
   "cell_type": "code",
   "execution_count": 16,
   "id": "85d807e4",
   "metadata": {},
   "outputs": [
    {
     "data": {
      "text/plain": [
       "array([[0.8118037 , 0.88607481, 0.72043288],\n",
       "       [0.15373337, 0.5610427 , 0.23057736],\n",
       "       [0.0393165 , 0.14827302, 0.59425107]])"
      ]
     },
     "execution_count": 16,
     "metadata": {},
     "output_type": "execute_result"
    }
   ],
   "source": [
    "B"
   ]
  },
  {
   "cell_type": "markdown",
   "id": "fe00a1c5",
   "metadata": {},
   "source": [
    "# Create random vector of size 10 and replace the maximum value by 0"
   ]
  },
  {
   "cell_type": "code",
   "execution_count": 29,
   "id": "6b128651",
   "metadata": {},
   "outputs": [
    {
     "name": "stdout",
     "output_type": "stream",
     "text": [
      "Random vector with the maximum value replaced:\n",
      "[0.6983556  0.39122225 0.63942603 0.7177719  0.55212086 0.\n",
      " 0.49059016 0.71074956 0.19427852 0.10816407]\n"
     ]
    }
   ],
   "source": [
    "# Create a random vector of size 10\n",
    "random_vector = np.random.rand(10)\n",
    "\n",
    "# Find the index of the maximum value in the vector\n",
    "max_index = np.argmax(random_vector)\n",
    "\n",
    "# Replace the maximum value with 0\n",
    "random_vector[max_index] = 0\n",
    "\n",
    "print(\"Random vector with the maximum value replaced:\")\n",
    "print(random_vector)\n"
   ]
  },
  {
   "cell_type": "markdown",
   "id": "05716edd",
   "metadata": {},
   "source": [
    "# How to print all the values of an array using numpy "
   ]
  },
  {
   "cell_type": "code",
   "execution_count": 22,
   "id": "9339a00f",
   "metadata": {},
   "outputs": [
    {
     "name": "stdout",
     "output_type": "stream",
     "text": [
      "[1 2 3 4 5 6 7 8 9]\n"
     ]
    }
   ],
   "source": [
    "arr =np.array([1,2,3,4,5,6,7,8,9])\n",
    "print(arr)"
   ]
  },
  {
   "cell_type": "markdown",
   "id": "850af6b5",
   "metadata": {},
   "source": [
    "# Subtract the mean of each row of a matrix"
   ]
  },
  {
   "cell_type": "code",
   "execution_count": 23,
   "id": "1dd07541",
   "metadata": {},
   "outputs": [
    {
     "name": "stdout",
     "output_type": "stream",
     "text": [
      "Original Matrix:\n",
      "[[1 2 3]\n",
      " [4 5 6]\n",
      " [7 8 9]]\n",
      "\n",
      "Matrix with Row Means Subtracted:\n",
      "[[-1.  0.  1.]\n",
      " [-1.  0.  1.]\n",
      " [-1.  0.  1.]]\n"
     ]
    }
   ],
   "source": [
    "import numpy as np\n",
    "\n",
    "# Create a sample matrix \n",
    "matrix = np.array([[1, 2, 3],\n",
    "                   [4, 5, 6],\n",
    "                   [7, 8, 9]])\n",
    "\n",
    "# Calculate the mean of each row\n",
    "row_means = np.mean(matrix, axis=1, keepdims=True)\n",
    "\n",
    "# Subtract the row means from the matrix\n",
    "result_matrix = matrix - row_means\n",
    "\n",
    "print(\"Original Matrix:\")\n",
    "print(matrix)\n",
    "print(\"\\nMatrix with Row Means Subtracted:\")\n",
    "print(result_matrix)\n"
   ]
  },
  {
   "cell_type": "markdown",
   "id": "c2abbdfd",
   "metadata": {},
   "source": [
    "# Consider a vector, how to add 1 to each element indexed by a second vector(be careful with repeated indices)"
   ]
  },
  {
   "cell_type": "code",
   "execution_count": 24,
   "id": "205a1afc",
   "metadata": {},
   "outputs": [
    {
     "name": "stdout",
     "output_type": "stream",
     "text": [
      "Original Vector:\n",
      "[10 21 31 41 51]\n"
     ]
    }
   ],
   "source": [
    "import numpy as np\n",
    "\n",
    "# Create a vector (replace this with your vector)\n",
    "vector = np.array([10, 20, 30, 40, 50])\n",
    "\n",
    "# Create a second vector with indices (replace this with your indices)\n",
    "indices = np.array([1, 3, 1, 4, 2])\n",
    "\n",
    "# Create a mask to mark unique indices\n",
    "unique_indices = np.unique(indices)\n",
    "\n",
    "# Add 1 to elements at unique indices\n",
    "vector[unique_indices] += 1\n",
    "\n",
    "print(\"Original Vector:\")\n",
    "print(vector)\n"
   ]
  },
  {
   "cell_type": "markdown",
   "id": "c1e0df8f",
   "metadata": {},
   "source": [
    "# How to get the diagonal of a dot product"
   ]
  },
  {
   "cell_type": "code",
   "execution_count": 25,
   "id": "710b46cc",
   "metadata": {},
   "outputs": [
    {
     "name": "stdout",
     "output_type": "stream",
     "text": [
      "Dot Product Matrix:\n",
      "[[ 30  24  18]\n",
      " [ 84  69  54]\n",
      " [138 114  90]]\n",
      "\n",
      "Diagonal Elements of Dot Product:\n",
      "[30 69 90]\n"
     ]
    }
   ],
   "source": [
    "# Create two matrices \n",
    "matrix1 = np.array([[1, 2, 3],\n",
    "                    [4, 5, 6],\n",
    "                    [7, 8, 9]])\n",
    "\n",
    "matrix2 = np.array([[9, 8, 7],\n",
    "                    [6, 5, 4],\n",
    "                    [3, 2, 1]])\n",
    "\n",
    "# Calculate the dot product\n",
    "dot_product = np.dot(matrix1, matrix2)\n",
    "\n",
    "# Extract the diagonal elements\n",
    "diagonal = np.diag(dot_product)\n",
    "\n",
    "print(\"Dot Product Matrix:\")\n",
    "print(dot_product)\n",
    "print(\"\\nDiagonal Elements of Dot Product:\")\n",
    "print(diagonal)\n"
   ]
  },
  {
   "cell_type": "markdown",
   "id": "5bdf53a6",
   "metadata": {},
   "source": [
    "# How to find the most frequent value in an array using numpy"
   ]
  },
  {
   "cell_type": "code",
   "execution_count": 27,
   "id": "7ae71e25",
   "metadata": {},
   "outputs": [
    {
     "name": "stdout",
     "output_type": "stream",
     "text": [
      "Most Frequent Value: 30\n"
     ]
    }
   ],
   "source": [
    "# Create a NumPy array (replace this with your array)\n",
    "my_array = np.array([10, 20, 20, 30, 30, 30, 40, 40, 40, 44])\n",
    "\n",
    "# Find the most frequent value\n",
    "most_frequent_value = np.bincount(my_array).argmax()\n",
    "\n",
    "print(\"Most Frequent Value:\", most_frequent_value)\n"
   ]
  },
  {
   "cell_type": "markdown",
   "id": "47cb624b",
   "metadata": {},
   "source": [
    "# How to get the n largest values of an array"
   ]
  },
  {
   "cell_type": "code",
   "execution_count": 31,
   "id": "e6f54358",
   "metadata": {},
   "outputs": [
    {
     "name": "stdout",
     "output_type": "stream",
     "text": [
      "The 3 largest values are: [7 8 9]\n"
     ]
    }
   ],
   "source": [
    "# Create a NumPy array \n",
    "arr = np.array([1,2,3,4,5,6,7,8,9])\n",
    "\n",
    "# Set the value of n for the n largest values\n",
    "n = 3\n",
    "\n",
    "# Use numpy.partition to get the n largest values\n",
    "n_largest_values = np.partition(arr, -n)[-n:]\n",
    "\n",
    "print(f\"The {n} largest values are: {n_largest_values}\")\n"
   ]
  },
  {
   "cell_type": "markdown",
   "id": "99e5f778",
   "metadata": {},
   "source": [
    "# How to create a record array from a regular array"
   ]
  },
  {
   "cell_type": "code",
   "execution_count": 32,
   "id": "81d8b2a9",
   "metadata": {},
   "outputs": [
    {
     "name": "stdout",
     "output_type": "stream",
     "text": [
      "Record Array:\n",
      "[(1, 'Kohli', 25) (2, 'Rohit', 30) (3, 'Gill', 22)]\n",
      "\n",
      "Accessing elements by field name:\n",
      "ID: [1 2 3]\n",
      "Name: ['Kohli' 'Rohit' 'Gill']\n",
      "Age: [25 30 22]\n"
     ]
    }
   ],
   "source": [
    "# Create a regular NumPy array\n",
    "regular_array = np.array([(1, 'Kohli', 25),\n",
    "                           (2, 'Rohit', 30),\n",
    "                           (3, 'Gill', 22)],\n",
    "                          dtype=[('ID', int), ('Name', ''), ('Age', int)])\n",
    "\n",
    "# Create a record array from the regular array\n",
    "record_array = regular_array.view(np.recarray)\n",
    "\n",
    "# Access elements in the record array by field names\n",
    "print(\"Record Array:\")\n",
    "print(record_array)\n",
    "print(\"\\nAccessing elements by field name:\")\n",
    "print(\"ID:\", record_array.ID)\n",
    "print(\"Name:\", record_array.Name)\n",
    "print(\"Age:\", record_array.Age)\n"
   ]
  },
  {
   "cell_type": "markdown",
   "id": "fca70640",
   "metadata": {},
   "source": [
    "# How to swap two rows of an array"
   ]
  },
  {
   "cell_type": "code",
   "execution_count": 34,
   "id": "cb99bc3e",
   "metadata": {},
   "outputs": [
    {
     "name": "stdout",
     "output_type": "stream",
     "text": [
      "Array after swapping rows:\n",
      "[[7 8 9]\n",
      " [4 5 6]\n",
      " [1 2 3]]\n"
     ]
    }
   ],
   "source": [
    "# Create a sample 2D NumPy array \n",
    "array = np.array([[1, 2, 3],\n",
    "                  [4, 5, 6],\n",
    "                  [7, 8, 9]])\n",
    "\n",
    "# Specify the indices of the rows you want to swap\n",
    "row1_index = 0  # Index of the first row\n",
    "row2_index = 2  # Index of the second row\n",
    "\n",
    "# Swap the rows\n",
    "array[[row1_index, row2_index]] = array[[row2_index, row1_index]]\n",
    "\n",
    "print(\"Array after swapping rows:\")\n",
    "print(array)\n"
   ]
  },
  {
   "cell_type": "markdown",
   "id": "9b575a28",
   "metadata": {},
   "source": [
    "# Write python code to reshape to the next dimension of numpy array"
   ]
  },
  {
   "cell_type": "code",
   "execution_count": 33,
   "id": "3d1d8fd4",
   "metadata": {},
   "outputs": [
    {
     "name": "stdout",
     "output_type": "stream",
     "text": [
      "Original Array (1D):\n",
      "[1 2 3 4 5 6]\n",
      "\n",
      "Reshaped Array (2D - Next Dimension):\n",
      "[[1]\n",
      " [2]\n",
      " [3]\n",
      " [4]\n",
      " [5]\n",
      " [6]]\n"
     ]
    }
   ],
   "source": [
    "# Create a 1D NumPy array \n",
    "original_array = np.array([1, 2, 3, 4, 5, 6])\n",
    "\n",
    "# Reshape to the next dimension (2D array)\n",
    "next_dimension_array = original_array.reshape(-1, 1)\n",
    "\n",
    "print(\"Original Array (1D):\")\n",
    "print(original_array)\n",
    "print(\"\\nReshaped Array (2D - Next Dimension):\")\n",
    "print(next_dimension_array)\n"
   ]
  },
  {
   "cell_type": "code",
   "execution_count": null,
   "id": "a67b2790",
   "metadata": {},
   "outputs": [],
   "source": []
  }
 ],
 "metadata": {
  "kernelspec": {
   "display_name": "Python 3 (ipykernel)",
   "language": "python",
   "name": "python3"
  },
  "language_info": {
   "codemirror_mode": {
    "name": "ipython",
    "version": 3
   },
   "file_extension": ".py",
   "mimetype": "text/x-python",
   "name": "python",
   "nbconvert_exporter": "python",
   "pygments_lexer": "ipython3",
   "version": "3.11.4"
  }
 },
 "nbformat": 4,
 "nbformat_minor": 5
}
