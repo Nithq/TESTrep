{
 "cells": [
  {
   "cell_type": "markdown",
   "id": "926297ad",
   "metadata": {},
   "source": [
    "# 1 Write a python program with exception handling to input marks for five subjects.Calculate the percentage and grade according to the following"
   ]
  },
  {
   "cell_type": "code",
   "execution_count": 3,
   "id": "34c2f8c2",
   "metadata": {},
   "outputs": [
    {
     "name": "stdout",
     "output_type": "stream",
     "text": [
      "Enter marks for subject 1: 60\n",
      "Enter marks for subject 2: 70\n",
      "Enter marks for subject 3: 65\n",
      "Enter marks for subject 4: 55\n",
      "Enter marks for subject 5: 40\n",
      "Total Marks: 290.0\n",
      "Percentage: 58.00%\n",
      "Grade: E\n"
     ]
    }
   ],
   "source": [
    "try:\n",
    "    \n",
    "    marks = []\n",
    "    for i in range(5):\n",
    "        subject_name = input(f\"Enter marks for subject {i + 1}: \")\n",
    "        marks.append(float(subject_name))\n",
    "        \n",
    "    # Calculate the total marks and percentage\n",
    "    total_marks = sum(marks)\n",
    "    percentage = (total_marks / (5 * 100)) * 100\n",
    "\n",
    "    # Determine the grade based on the percentage\n",
    "    if percentage >= 90:\n",
    "        grade = 'A'\n",
    "    elif percentage >= 80:\n",
    "        grade = 'B'\n",
    "    elif percentage >= 70:\n",
    "        grade = 'C'\n",
    "    elif percentage >= 60:\n",
    "        grade = 'D'\n",
    "    elif percentage >= 40:\n",
    "        grade = 'E'\n",
    "    else:\n",
    "        grade = 'F'\n",
    "\n",
    "    # Display the result\n",
    "    print(f\"Total Marks: {total_marks}\")\n",
    "    print(f\"Percentage: {percentage:.2f}%\")\n",
    "    print(f\"Grade: {grade}\")\n",
    "\n",
    "except ValueError:\n",
    "    print(\"Invalid input. Please enter numeric marks for each subject.\")\n",
    "except KeyboardInterrupt:\n",
    "    print(\"\\nProgram interrupted by the user.\")\n",
    "except Exception as e:\n",
    "    print(f\"An error occurred: {e}\")\n"
   ]
  },
  {
   "cell_type": "markdown",
   "id": "8488557f",
   "metadata": {},
   "source": [
    "# 2 Write a python program with exception handling to input electricity unit charges and calculate the total electricity bill according to the given conditions"
   ]
  },
  {
   "cell_type": "code",
   "execution_count": 5,
   "id": "ed97be9d",
   "metadata": {},
   "outputs": [
    {
     "name": "stdout",
     "output_type": "stream",
     "text": [
      "Enter electricity units consumed: 500\n",
      "Total electricity bill: Rs. 595.00\n",
      "Total bill with 20% surcharge: Rs. 714.00\n"
     ]
    }
   ],
   "source": [
    "def calculate_electricity_bill(units):\n",
    "    if units <= 50:\n",
    "        return units * 0.50\n",
    "    elif units <= 150:\n",
    "        return 50 * 0.50 + (units - 50) * 0.75\n",
    "    elif units <= 250:\n",
    "        return 50 * 0.50 + 100 * 0.75 + (units - 150) * 1.20\n",
    "    else:\n",
    "        return 50 * 0.50 + 100 * 0.75 + 100 * 1.20 + (units - 250) * 1.50\n",
    "\n",
    "try:\n",
    "    # Input electricity units\n",
    "    units = float(input(\"Enter electricity units consumed: \"))\n",
    "    \n",
    "    if units < 0:\n",
    "        raise ValueError(\"Units consumed cannot be negative.\")\n",
    "\n",
    "    # Calculate the total electricity bill\n",
    "    total_bill = calculate_electricity_bill(units)\n",
    "\n",
    "    # Add a 20% surcharge to the bill\n",
    "    total_bill_with_surcharge = total_bill * 1.20\n",
    "\n",
    "    # Display the results\n",
    "    print(f\"Total electricity bill: Rs. {total_bill:.2f}\")\n",
    "    print(f\"Total bill with 20% surcharge: Rs. {total_bill_with_surcharge:.2f}\")\n",
    "\n",
    "except ValueError as e:\n",
    "    print(f\"Error: {e}\")\n",
    "except Exception as e:\n",
    "    print(f\"An error occurred: {e}\")\n"
   ]
  },
  {
   "cell_type": "markdown",
   "id": "1d768b95",
   "metadata": {},
   "source": [
    "# 3.Write a python program with Exception handling to input the week number and print the weekday\n"
   ]
  },
  {
   "cell_type": "code",
   "execution_count": 7,
   "id": "07715425",
   "metadata": {},
   "outputs": [
    {
     "name": "stdout",
     "output_type": "stream",
     "text": [
      "Enter a week number (1-7): 10\n",
      "Error: Week number should be between 1 and 7.\n"
     ]
    }
   ],
   "source": [
    "try:\n",
    "    # Input the week number\n",
    "    week_number = int(input(\"Enter a week number (1-7): \"))\n",
    "\n",
    "    # Check if the week number is within the valid range (1-7)\n",
    "    if week_number < 1 or week_number > 7:\n",
    "        raise ValueError(\"Week number should be between 1 and 7.\")\n",
    "\n",
    "    # Define a list of weekdays\n",
    "    weekdays = [\"Monday\", \"Tuesday\", \"Wednesday\", \"Thursday\", \"Friday\", \"Saturday\", \"Sunday\"]\n",
    "\n",
    "    # Print the corresponding weekday\n",
    "    print(f\"Weekday for week number {week_number} is {weekdays[week_number - 1]}\")\n",
    "\n",
    "except ValueError as ve:\n",
    "    print(f\"Error: {ve}\")\n",
    "except KeyboardInterrupt:\n",
    "    print(\"\\nProgram interrupted by the user.\")\n",
    "except Exception as e:\n",
    "    print(f\"An error occurred: {e}\")\n"
   ]
  },
  {
   "cell_type": "markdown",
   "id": "9a70843e",
   "metadata": {},
   "source": [
    "# 4. Write a python program to implement word count using command line arguments.\n",
    "i)Create a text document \"apple.txt\" which contains text for wordcount.\n",
    "ii) Create a wordcount program which calls the \"apple.txt\" document by opening the file.\n",
    "iii) If the word is present again in the \"apple.txt\", the wordcount is incremented by 1 untill all the words are counted in the document.\n",
    "iv) Close the file.\n",
    "v) Create a command.py program which imports thewordcount.py program.\n",
    "vi) Count the number of words using command line arguments.\n",
    "v) Print each word and its count."
   ]
  },
  {
   "cell_type": "code",
   "execution_count": 11,
   "id": "c5e5b476",
   "metadata": {},
   "outputs": [
    {
     "name": "stdout",
     "output_type": "stream",
     "text": [
      "Usage: python wordcount.py <file_path>\n"
     ]
    },
    {
     "ename": "SystemExit",
     "evalue": "1",
     "output_type": "error",
     "traceback": [
      "An exception has occurred, use %tb to see the full traceback.\n",
      "\u001b[1;31mSystemExit\u001b[0m\u001b[1;31m:\u001b[0m 1\n"
     ]
    },
    {
     "name": "stderr",
     "output_type": "stream",
     "text": [
      "E:\\New folder\\Lib\\site-packages\\IPython\\core\\interactiveshell.py:3513: UserWarning: To exit: use 'exit', 'quit', or Ctrl-D.\n",
      "  warn(\"To exit: use 'exit', 'quit', or Ctrl-D.\", stacklevel=1)\n"
     ]
    }
   ],
   "source": [
    "def word_count(file_path):\n",
    "    try:\n",
    "        with open(file_path, 'r') as file:\n",
    "            text = file.read().lower()  # Read and convert text to lowercase\n",
    "            words = text.split()  # Split text into words\n",
    "\n",
    "            word_counts = {}\n",
    "            for word in words:\n",
    "                if word in word_counts:\n",
    "                    word_counts[word] += 1\n",
    "                else:\n",
    "                    word_counts[word] = 1\n",
    "\n",
    "            return word_counts\n",
    "\n",
    "    except FileNotFoundError:\n",
    "        print(f\"File '{file_path}' not found.\")\n",
    "    except Exception as e:\n",
    "        print(f\"An error occurred: {e}\")\n",
    "\n",
    "if __name__ == \"__main__\":\n",
    "    import sys\n",
    "\n",
    "    if len(sys.argv) != 2:\n",
    "        print(\"Usage: python wordcount.py <file_path>\")\n",
    "        sys.exit(1)\n",
    "\n",
    "    file_path = sys.argv[1]\n",
    "\n",
    "    word_counts = word_count(file_path)\n",
    "\n",
    "    if word_counts:\n",
    "        for word, count in word_counts.items():\n",
    "            print(f\"{word}: {count}\")\n"
   ]
  },
  {
   "cell_type": "markdown",
   "id": "94295b30",
   "metadata": {},
   "source": [
    "import wordcount\n",
    "\n",
    "if __name__ == \"__main__\":\n",
    "    import sys\n",
    "\n",
    "    if len(sys.argv) != 2:\n",
    "        print(\"Usage: python command.py <file_path>\")\n",
    "        sys.exit(1)\n",
    "\n",
    "    file_path = sys.argv[1]\n",
    "\n",
    "    word_counts = wordcount.word_count(file_path)\n",
    "\n",
    "    if word_counts:\n",
    "        for word, count in word_counts.items():\n",
    "            print(f\"{word}: {count}\")\n"
   ]
  },
  {
   "cell_type": "markdown",
   "id": "f43889c0",
   "metadata": {},
   "source": [
    "# 5. Write a python program for finding the most frequent words in a text read from a file.\n",
    "i) Initially open te text file in read mode.\n",
    "ii) Make all the letters in the document into lowercase letters and split the words in each line.\n",
    "iii) Get the words in an order.\n",
    "iv) Sort the words for finding the most frequent words in a file.\n",
    "v) Print the most frequent words in the file"
   ]
  },
  {
   "cell_type": "code",
   "execution_count": 2,
   "id": "2dafb12f",
   "metadata": {},
   "outputs": [
    {
     "name": "stdout",
     "output_type": "stream",
     "text": [
      "the: 14\n",
      "in: 7\n",
      "he: 5\n",
      "for: 3\n",
      "to: 3\n",
      "of: 3\n",
      "as: 3\n",
      "a: 2\n",
      "runs: 2\n",
      "test: 2\n"
     ]
    }
   ],
   "source": [
    "def most_frequent_words(file_path, num_words):\n",
    "    try:\n",
    "        # Open the text file in read mode\n",
    "        with open(file_path, 'r') as file:\n",
    "            # Read the content and make it lowercase\n",
    "            text = file.read().lower()\n",
    "\n",
    "            # Split the text into words\n",
    "            words = text.split()\n",
    "\n",
    "            # Create a dictionary to count word occurrences\n",
    "            word_count = {}\n",
    "            for word in words:\n",
    "                if word in word_count:\n",
    "                    word_count[word] += 1\n",
    "                else:\n",
    "                    word_count[word] = 1\n",
    "\n",
    "            # Sort the words by frequency in descending order\n",
    "            sorted_words = sorted(word_count.items(), key=lambda x: x[1], reverse=True)\n",
    "\n",
    "            # Print the most frequent words\n",
    "            for i in range(min(num_words, len(sorted_words))):\n",
    "                print(f\"{sorted_words[i][0]}: {sorted_words[i][1]}\")\n",
    "\n",
    "    except FileNotFoundError:\n",
    "        print(f\"Error: File '{file_path}' not found.\")\n",
    "    except Exception as e:\n",
    "        print(f\"An error occurred: {str(e)}\")\n",
    "\n",
    "\n",
    "file_path = \"DEMO\"\n",
    "num_most_frequent_words = 10  \n",
    "\n",
    "# Call the function to find and print the most frequent words\n",
    "most_frequent_words(file_path, num_most_frequent_words)\n"
   ]
  },
  {
   "cell_type": "code",
   "execution_count": 13,
   "id": "fad9ded4",
   "metadata": {},
   "outputs": [
    {
     "name": "stdout",
     "output_type": "stream",
     "text": [
      "Added value:  -fC:\\Users\\Naveen\\AppData\\Roaming\\jupyter\\runtime\\kernel-15e3ae1b-2402-4596-a80a-c912f72714fb.json\n"
     ]
    }
   ],
   "source": [
    "import sys\n",
    "\n",
    "a=sys.argv[1]\n",
    "b=sys.argv[2]\n",
    "c=a+b\n",
    "print('Added value: ', c)"
   ]
  },
  {
   "cell_type": "markdown",
   "id": "2c6e9e18",
   "metadata": {},
   "source": [
    "# File processing with Command-Line Arguments: Scenario: You are developing a command line utility that processes text files. Users can specify input and output file paths as command line arguments.Your program should handle exceptions gracefully.\n",
    "a) Design a python program that takes two command line arguments :the input file path and the output file path.Ensure that the program checks if both arguments are provided and that the input file exists\n",
    "b)Implement error handling to deal with scenarios such as missing input files, invalid file paths, or permission issues when writing to the output file\n",
    "c)If an error occurs during file processing, display a user-friendly error message, and exit the program with a non-zero exit code\n",
    "d)Write test cases that cover various scenarios, including providing valid and invalid file paths as command line arguments"
   ]
  },
  {
   "cell_type": "code",
   "execution_count": null,
   "id": "435ed05b",
   "metadata": {},
   "outputs": [],
   "source": [
    "import sys\n",
    "\n",
    "def process_files(input_file_path, output_file_path):\n",
    "    try:\n",
    "        # Check if both input and output file paths are provided\n",
    "        if not input_file_path or not output_file_path:\n",
    "            raise ValueError(\"Both input and output file paths must be provided.\")\n",
    "\n",
    "        # Check if the input file exists\n",
    "        try:\n",
    "            with open(input_file_path, 'r') as input_file:\n",
    "                # Read and process the content from the input file\n",
    "                content = input_file.read()\n",
    "\n",
    "            # Perform your file processing here\n",
    "\n",
    "            # Write the processed content to the output file\n",
    "            with open(output_file_path, 'w') as output_file:\n",
    "                output_file.write(content)\n",
    "\n",
    "            print(\"File processing completed successfully.\")\n",
    "\n",
    "        except FileNotFoundError:\n",
    "            raise FileNotFoundError(f\"Input file '{input_file_path}' not found.\")\n",
    "        except PermissionError:\n",
    "            raise PermissionError(\"Permission denied when writing to the output file.\")\n",
    "        except Exception as e:\n",
    "            raise Exception(f\"An error occurred during file processing: {e}\")\n",
    "\n",
    "    except ValueError as ve:\n",
    "        print(f\"Error: {ve}\")\n",
    "        sys.exit(1)\n",
    "    except FileNotFoundError as fne:\n",
    "        print(f\"Error: {fne}\")\n",
    "        sys.exit(1)\n",
    "    except PermissionError as pe:\n",
    "        print(f\"Error: {pe}\")\n",
    "        sys.exit(1)\n",
    "    except Exception as e:\n",
    "        print(f\"An unexpected error occurred: {e}\")\n",
    "        sys.exit(1)\n",
    "\n",
    "if __name__ == \"__main__\":\n",
    "    if len(sys.argv) != 3:\n",
    "        print(\"Usage: python program.py <input_file_path> <output_file_path>\")\n",
    "        sys.exit(1)\n",
    "\n",
    "    input_file_path = sys.argv[1]\n",
    "    output_file_path = sys.argv[2]\n",
    "\n",
    "    process_files(input_file_path, output_file_path)\n"
   ]
  }
 ],
 "metadata": {
  "kernelspec": {
   "display_name": "Python 3 (ipykernel)",
   "language": "python",
   "name": "python3"
  },
  "language_info": {
   "codemirror_mode": {
    "name": "ipython",
    "version": 3
   },
   "file_extension": ".py",
   "mimetype": "text/x-python",
   "name": "python",
   "nbconvert_exporter": "python",
   "pygments_lexer": "ipython3",
   "version": "3.11.4"
  }
 },
 "nbformat": 4,
 "nbformat_minor": 5
}
